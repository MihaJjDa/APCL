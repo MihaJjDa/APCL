{
 "cells": [
  {
   "cell_type": "markdown",
   "metadata": {
    "slideshow": {
     "slide_type": "slide"
    }
   },
   "source": [
    "# Natasha\n",
    "\n",
    "#### Natasha - библиотека для поиска и извлечения именованных сущностей из текстов на русском языке \n",
    "\n",
    "На данный момент качественно разбираются упоминания персон, даты и суммы денег"
   ]
  },
  {
   "cell_type": "markdown",
   "metadata": {
    "slideshow": {
     "slide_type": "-"
    }
   },
   "source": [
    "```bash\n",
    "$ pip install natasha\n",
    "```"
   ]
  },
  {
   "cell_type": "markdown",
   "metadata": {
    "slideshow": {
     "slide_type": "-"
    }
   },
   "source": [
    "https://natasha.github.io/demo/"
   ]
  },
  {
   "cell_type": "markdown",
   "metadata": {
    "slideshow": {
     "slide_type": "slide"
    }
   },
   "source": [
    "# Экстракторы"
   ]
  },
  {
   "cell_type": "code",
   "execution_count": 1,
   "metadata": {
    "slideshow": {
     "slide_type": "-"
    }
   },
   "outputs": [],
   "source": [
    "import natasha as ntsh"
   ]
  },
  {
   "cell_type": "markdown",
   "metadata": {
    "slideshow": {
     "slide_type": "-"
    }
   },
   "source": [
    "```python\n",
    "ntsh.AddressExtractor()\n",
    "ntsh.DatesExtractor()\n",
    "ntsh.LocationExtractor()\n",
    "ntsh.MoneyExtractor()\n",
    "ntsh.MoneyRangeExtractor()\n",
    "ntsh.MoneyRateExtractor()\n",
    "ntsh.NamesExtractor()\n",
    "ntsh.OrganisationExtractor()\n",
    "ntsh.PersonExtractor()\n",
    "ntsh.SimpleNamesExtractor()\n",
    "```"
   ]
  },
  {
   "cell_type": "markdown",
   "metadata": {
    "slideshow": {
     "slide_type": "-"
    }
   },
   "source": [
    "Экстрактор принимает на вход текст и возвращает список сущностей"
   ]
  },
  {
   "cell_type": "markdown",
   "metadata": {
    "slideshow": {
     "slide_type": "-"
    }
   },
   "source": [
    "Разные экстракторы возвращают разные типы объектов"
   ]
  },
  {
   "cell_type": "markdown",
   "metadata": {
    "slideshow": {
     "slide_type": "slide"
    }
   },
   "source": [
    "### Имена"
   ]
  },
  {
   "cell_type": "code",
   "execution_count": 2,
   "metadata": {
    "slideshow": {
     "slide_type": "-"
    }
   },
   "outputs": [
    {
     "data": {
      "text/html": [
       "<style>\n",
       "\n",
       ".markup {\n",
       "    white-space: pre-wrap;\n",
       "}\n",
       "\n",
       ".markup > mark {\n",
       "    padding: 0.15em;\n",
       "    border-radius: 0.25em;\n",
       "    border: 1px solid #fdf07c;\n",
       "    background: #ffffc2;\n",
       "}\n",
       "    </style><div class=\"markup tex2jax_ignore\">\n",
       "Простите, еще несколько цитат из приговора. «…Отрицал существование\n",
       "<mark>Иисуса</mark> и пророка <mark>Мухаммеда</mark>», «наделял <mark>Иисуса Христа</mark> качествами\n",
       "ожившего мертвеца - зомби» [и] «качествами покемонов -\n",
       "представителей бестиария японской мифологии, тем самым совершил\n",
       "преступление, предусмотренное статьей 148 УК РФ\n",
       "</div>"
      ],
      "text/plain": [
       "Matches('\\nПростите, еще несколько цитат из приговора. «…Отрицал существование\\nИисуса и пророка Мухаммеда», «наделял Иисуса Христа качествами\\nожившего мертвеца - зомби» [и] «качествами покемонов -\\nпредставителей бестиария японской мифологии, тем самым совершил\\nпреступление, предусмотренное статьей 148 УК РФ\\n',\n",
       "        [Match([MorphTagToken('Иисуса',\n",
       "                              [69, 75),\n",
       "                              'RU',\n",
       "                              'I',\n",
       "                              [Form('иисус',\n",
       "                                    Grams(NOUN,Name,anim,gent,masc,sing)),\n",
       "                               Form('иисус',\n",
       "                                    Grams(NOUN,Name,accs,anim,masc,sing))])],\n",
       "               [69, 75)),\n",
       "         Match([MorphTagToken('Мухаммеда',\n",
       "                              [86, 95),\n",
       "                              'RU',\n",
       "                              'I',\n",
       "                              [Form('мухаммед',\n",
       "                                    Grams(NOUN,Name,anim,gent,masc,sing)),\n",
       "                               Form('мухаммед',\n",
       "                                    Grams(NOUN,Name,accs,anim,masc,sing))])],\n",
       "               [86, 95)),\n",
       "         Match([MorphTagToken('Иисуса',\n",
       "                              [107, 113),\n",
       "                              'RU',\n",
       "                              'I',\n",
       "                              [Form('иисус',\n",
       "                                    Grams(NOUN,Name,anim,gent,masc,sing)),\n",
       "                               Form('иисус',\n",
       "                                    Grams(NOUN,Name,accs,anim,masc,sing))]),\n",
       "                MorphTagToken('Христа',\n",
       "                              [114, 120),\n",
       "                              'RU',\n",
       "                              'I',\n",
       "                              [Form('христос',\n",
       "                                    Grams(NOUN,Sgtm,anim,gent,masc,sing)),\n",
       "                               Form('христос',\n",
       "                                    Grams(NOUN,Sgtm,accs,anim,masc,sing))])],\n",
       "               [107, 120))])"
      ]
     },
     "execution_count": 2,
     "metadata": {},
     "output_type": "execute_result"
    }
   ],
   "source": [
    "extractor = ntsh.NamesExtractor()\n",
    "text = '''\n",
    "Простите, еще несколько цитат из приговора. «…Отрицал существование\n",
    "Иисуса и пророка Мухаммеда», «наделял Иисуса Христа качествами\n",
    "ожившего мертвеца — зомби» [и] «качествами покемонов —\n",
    "представителей бестиария японской мифологии, тем самым совершил\n",
    "преступление, предусмотренное статьей 148 УК РФ\n",
    "'''\n",
    "\n",
    "matches = extractor(text)\n",
    "matches"
   ]
  },
  {
   "cell_type": "markdown",
   "metadata": {
    "slideshow": {
     "slide_type": "-"
    }
   },
   "source": [
    "Каждая сущность имеет два основных атрибута: `span` и `fact`"
   ]
  },
  {
   "cell_type": "code",
   "execution_count": 3,
   "metadata": {
    "slideshow": {
     "slide_type": "subslide"
    }
   },
   "outputs": [
    {
     "name": "stdout",
     "output_type": "stream",
     "text": [
      "[69, 75)\n",
      "Name(first='иисус', middle=None, last=None, nick=None)\n",
      "[86, 95)\n",
      "Name(first='мухаммед', middle=None, last=None, nick=None)\n",
      "[107, 120)\n",
      "Name(first='иисус', middle=None, last='христос', nick=None)\n"
     ]
    }
   ],
   "source": [
    "for match in matches:\n",
    "    print(match.span) ## Границы сущности в тексте\n",
    "    print(match.fact) ## Объект сущности"
   ]
  },
  {
   "cell_type": "markdown",
   "metadata": {
    "slideshow": {
     "slide_type": "slide"
    }
   },
   "source": [
    "### Упрощенные имена\n",
    "\n",
    "`NamesExtractor` прогоняет текст через теггер для учитывания контекста"
   ]
  },
  {
   "cell_type": "code",
   "execution_count": 4,
   "metadata": {
    "slideshow": {
     "slide_type": "-"
    }
   },
   "outputs": [
    {
     "data": {
      "text/html": [
       "<style>\n",
       "\n",
       ".markup {\n",
       "    white-space: pre-wrap;\n",
       "}\n",
       "\n",
       ".markup > mark {\n",
       "    padding: 0.15em;\n",
       "    border-radius: 0.25em;\n",
       "    border: 1px solid #fdf07c;\n",
       "    background: #ffffc2;\n",
       "}\n",
       "    </style><div class=\"markup tex2jax_ignore\">\n",
       "5 июля во <mark>Владимире</mark> встретятся <mark>Мустафа Джемилев</mark>, <mark>Владимир Путин</mark>, \n",
       "а также <mark>Плаксюк</mark> саша и Дерипаска О.\n",
       "</div>"
      ],
      "text/plain": [
       "Matches('\\n5 июля во Владимире встретятся Мустафа Джемилев, Владимир Путин, \\nа также Плаксюк саша и Дерипаска О.\\n',\n",
       "        [Match([MorphTagToken('Владимире',\n",
       "                              [11, 20),\n",
       "                              'RU',\n",
       "                              'I',\n",
       "                              [Form('владимир',\n",
       "                                    Grams(NOUN,Name,anim,loct,masc,sing)),\n",
       "                               Form('владимир',\n",
       "                                    Grams(Geox,NOUN,inan,loct,masc,sing))])],\n",
       "               [11, 20)),\n",
       "         Match([MorphTagToken('Мустафа',\n",
       "                              [32, 39),\n",
       "                              'RU',\n",
       "                              'I',\n",
       "                              [Form('мустафа',\n",
       "                                    Grams(NOUN,Name,anim,masc,nomn,sing))]),\n",
       "                MorphTagToken('Джемилев',\n",
       "                              [40, 48),\n",
       "                              'RU',\n",
       "                              'I',\n",
       "                              [Form('джемилев',\n",
       "                                    Grams(NOUN,inan,masc,nomn,sing)),\n",
       "                               Form('джемилев',\n",
       "                                    Grams(NOUN,anim,masc,nomn,sing)),\n",
       "                               Form('джемилев',\n",
       "                                    Grams(NOUN,Name,anim,masc,nomn,sing)),\n",
       "                               Form('джемилев',\n",
       "                                    Grams(NOUN,Sgtm,Surn,anim,masc,nomn,sing))])],\n",
       "               [32, 48)),\n",
       "         Match([MorphTagToken('Владимир',\n",
       "                              [50, 58),\n",
       "                              'RU',\n",
       "                              'I',\n",
       "                              [Form('владимир',\n",
       "                                    Grams(NOUN,Name,anim,masc,nomn,sing)),\n",
       "                               Form('владимир',\n",
       "                                    Grams(Geox,NOUN,inan,masc,nomn,sing))]),\n",
       "                MorphTagToken('Путин',\n",
       "                              [59, 64),\n",
       "                              'RU',\n",
       "                              'I',\n",
       "                              [Form('путин',\n",
       "                                    Grams(NOUN,Sgtm,Surn,anim,masc,nomn,sing))])],\n",
       "               [50, 64)),\n",
       "         Match([MorphTagToken('Плаксюк',\n",
       "                              [75, 82),\n",
       "                              'RU',\n",
       "                              'I',\n",
       "                              [Form('плаксюк',\n",
       "                                    Grams(NOUN,Sgtm,Surn,anim,masc,nomn,sing)),\n",
       "                               Form('плаксюк',\n",
       "                                    Grams(Fixd,NOUN,Sgtm,Surn,anim,femn,nomn,sing)),\n",
       "                               Form('плаксюк',\n",
       "                                    Grams(Fixd,NOUN,Sgtm,Surn,anim,femn,gent,sing)),\n",
       "                               Form('плаксюк',\n",
       "                                    Grams(Fixd,NOUN,Sgtm,Surn,anim,datv,femn,sing)),\n",
       "                               Form('плаксюк',\n",
       "                                    Grams(Fixd,NOUN,Sgtm,Surn,accs,anim,femn,sing)),\n",
       "                               Form('плаксюк',\n",
       "                                    Grams(Fixd,NOUN,Sgtm,Surn,ablt,anim,femn,sing)),\n",
       "                               Form('плаксюк',\n",
       "                                    Grams(Fixd,NOUN,Sgtm,Surn,anim,femn,loct,sing))])],\n",
       "               [75, 82))])"
      ]
     },
     "execution_count": 4,
     "metadata": {},
     "output_type": "execute_result"
    }
   ],
   "source": [
    "extractor = ntsh.NamesExtractor()\n",
    "text = '''\n",
    "5 июля во Владимире встретятся Мустафа Джемилев, Владимир Путин, \n",
    "а также Плаксюк саша и Дерипаска О.\n",
    "'''\n",
    "matches = extractor(text)\n",
    "matches ## Планируется избавиться от Владимира"
   ]
  },
  {
   "cell_type": "code",
   "execution_count": 5,
   "metadata": {
    "scrolled": true,
    "slideshow": {
     "slide_type": "subslide"
    }
   },
   "outputs": [
    {
     "name": "stdout",
     "output_type": "stream",
     "text": [
      "Name(first='владимир', middle=None, last=None, nick=None)\n",
      "Name(first='мустафа', middle=None, last='джемилев', nick=None)\n",
      "Name(first='владимир', middle=None, last='путин', nick=None)\n",
      "Name(first=None, middle=None, last='плаксюк', nick=None)\n"
     ]
    }
   ],
   "source": [
    "for match in matches:\n",
    "    print(match.fact)"
   ]
  },
  {
   "cell_type": "code",
   "execution_count": 6,
   "metadata": {
    "slideshow": {
     "slide_type": "slide"
    }
   },
   "outputs": [
    {
     "data": {
      "text/html": [
       "<style>\n",
       "\n",
       ".markup {\n",
       "    white-space: pre-wrap;\n",
       "}\n",
       "\n",
       ".markup > mark {\n",
       "    padding: 0.15em;\n",
       "    border-radius: 0.25em;\n",
       "    border: 1px solid #fdf07c;\n",
       "    background: #ffffc2;\n",
       "}\n",
       "    </style><div class=\"markup tex2jax_ignore\">\n",
       "5 <mark>июля</mark> <mark>во</mark> <mark>Владимире</mark> <mark>встретятся</mark> <mark>Мустафа Джемилев</mark>, <mark>Владимир Путин</mark>, \n",
       "<mark>а</mark> также <mark>Плаксюк</mark> <mark>саша и</mark> <mark>Дерипаска О.</mark>\n",
       "</div>"
      ],
      "text/plain": [
       "Matches('\\n5 июля во Владимире встретятся Мустафа Джемилев, Владимир Путин, \\nа также Плаксюк саша и Дерипаска О.\\n',\n",
       "        [Match([MorphToken('июля',\n",
       "                           [3, 7),\n",
       "                           'RU',\n",
       "                           [Form('июль', Grams(NOUN,gent,inan,masc,sing))])],\n",
       "               [3, 7)),\n",
       "         Match([MorphToken('во',\n",
       "                           [8, 10),\n",
       "                           'RU',\n",
       "                           [Form('в', Grams(PREP,Vpre))])],\n",
       "               [8, 10)),\n",
       "         Match([MorphToken('Владимире',\n",
       "                           [11, 20),\n",
       "                           'RU',\n",
       "                           [Form('владимир',\n",
       "                                 Grams(NOUN,Name,anim,loct,masc,sing)),\n",
       "                            Form('владимир',\n",
       "                                 Grams(Geox,NOUN,inan,loct,masc,sing))])],\n",
       "               [11, 20)),\n",
       "         Match([MorphToken('встретятся',\n",
       "                           [21, 31),\n",
       "                           'RU',\n",
       "                           [Form('встретиться',\n",
       "                                 Grams(3per,VERB,futr,indc,intr,perf,plur))])],\n",
       "               [21, 31)),\n",
       "         Match([MorphToken('Мустафа',\n",
       "                           [32, 39),\n",
       "                           'RU',\n",
       "                           [Form('мустафа',\n",
       "                                 Grams(NOUN,Name,anim,masc,nomn,sing))]),\n",
       "                MorphToken('Джемилев',\n",
       "                           [40, 48),\n",
       "                           'RU',\n",
       "                           [Form('джемилев', Grams(NOUN,inan,masc,nomn,sing)),\n",
       "                            Form('джемилев', Grams(NOUN,anim,masc,nomn,sing)),\n",
       "                            Form('джемилев',\n",
       "                                 Grams(NOUN,Name,anim,masc,nomn,sing)),\n",
       "                            Form('джемилев',\n",
       "                                 Grams(NOUN,Sgtm,Surn,anim,masc,nomn,sing))])],\n",
       "               [32, 48)),\n",
       "         Match([MorphToken('Владимир',\n",
       "                           [50, 58),\n",
       "                           'RU',\n",
       "                           [Form('владимир',\n",
       "                                 Grams(NOUN,Name,anim,masc,nomn,sing)),\n",
       "                            Form('владимир',\n",
       "                                 Grams(Geox,NOUN,inan,masc,nomn,sing))]),\n",
       "                MorphToken('Путин',\n",
       "                           [59, 64),\n",
       "                           'RU',\n",
       "                           [Form('путин',\n",
       "                                 Grams(NOUN,Sgtm,Surn,anim,masc,nomn,sing))])],\n",
       "               [50, 64)),\n",
       "         Match([MorphToken('а',\n",
       "                           [67, 68),\n",
       "                           'RU',\n",
       "                           [Form('а', Grams(CONJ)),\n",
       "                            Form('а', Grams(INTJ)),\n",
       "                            Form('а', Grams(PRCL))])],\n",
       "               [67, 68)),\n",
       "         Match([MorphToken('Плаксюк',\n",
       "                           [75, 82),\n",
       "                           'RU',\n",
       "                           [Form('плаксюк',\n",
       "                                 Grams(NOUN,Sgtm,Surn,anim,masc,nomn,sing)),\n",
       "                            Form('плаксюк',\n",
       "                                 Grams(Fixd,NOUN,Sgtm,Surn,anim,femn,nomn,sing)),\n",
       "                            Form('плаксюк',\n",
       "                                 Grams(Fixd,NOUN,Sgtm,Surn,anim,femn,gent,sing)),\n",
       "                            Form('плаксюк',\n",
       "                                 Grams(Fixd,NOUN,Sgtm,Surn,anim,datv,femn,sing)),\n",
       "                            Form('плаксюк',\n",
       "                                 Grams(Fixd,NOUN,Sgtm,Surn,accs,anim,femn,sing)),\n",
       "                            Form('плаксюк',\n",
       "                                 Grams(Fixd,NOUN,Sgtm,Surn,ablt,anim,femn,sing)),\n",
       "                            Form('плаксюк',\n",
       "                                 Grams(Fixd,NOUN,Sgtm,Surn,anim,femn,loct,sing))])],\n",
       "               [75, 82)),\n",
       "         Match([MorphToken('саша',\n",
       "                           [83, 87),\n",
       "                           'RU',\n",
       "                           [Form('саша',\n",
       "                                 Grams(Ms-f,NOUN,Name,anim,femn,nomn,sing))]),\n",
       "                MorphToken('и',\n",
       "                           [88, 89),\n",
       "                           'RU',\n",
       "                           [Form('исполняющий',\n",
       "                                 Grams(Abbr,Fixd,NOUN,anim,masc,nomn,sing)),\n",
       "                            Form('исполняющий',\n",
       "                                 Grams(Abbr,Fixd,NOUN,anim,gent,masc,sing)),\n",
       "                            Form('исполняющий',\n",
       "                                 Grams(Abbr,Fixd,NOUN,anim,datv,masc,sing)),\n",
       "                            Form('исполняющий',\n",
       "                                 Grams(Abbr,Fixd,NOUN,accs,anim,masc,sing)),\n",
       "                            Form('исполняющий',\n",
       "                                 Grams(Abbr,Fixd,NOUN,ablt,anim,masc,sing)),\n",
       "                            Form('исполняющий',\n",
       "                                 Grams(Abbr,Fixd,NOUN,anim,loct,masc,sing))])],\n",
       "               [83, 89)),\n",
       "         Match([MorphToken('Дерипаска',\n",
       "                           [90, 99),\n",
       "                           'RU',\n",
       "                           [Form('дерипаск', Grams(NOUN,gent,inan,masc,sing)),\n",
       "                            Form('дерипаска',\n",
       "                                 Grams(Fixd,NOUN,Sgtm,femn,inan,nomn,sing)),\n",
       "                            Form('дерипаска',\n",
       "                                 Grams(Fixd,NOUN,Sgtm,femn,gent,inan,sing)),\n",
       "                            Form('дерипаска',\n",
       "                                 Grams(Fixd,NOUN,Sgtm,datv,femn,inan,sing)),\n",
       "                            Form('дерипаска',\n",
       "                                 Grams(Fixd,NOUN,Sgtm,accs,femn,inan,sing)),\n",
       "                            Form('дерипаска',\n",
       "                                 Grams(Fixd,NOUN,Sgtm,ablt,femn,inan,sing)),\n",
       "                            Form('дерипаска',\n",
       "                                 Grams(Fixd,NOUN,Sgtm,femn,inan,loct,sing)),\n",
       "                            Form('дерипаска',\n",
       "                                 Grams(NOUN,femn,inan,nomn,sing))]),\n",
       "                MorphToken('О',\n",
       "                           [100, 101),\n",
       "                           'RU',\n",
       "                           [Form('о',\n",
       "                                 Grams(Abbr,Fixd,Init,NOUN,Name,Sgtm,anim,masc,nomn,sing)),\n",
       "                            Form('о',\n",
       "                                 Grams(Abbr,Fixd,Init,NOUN,Name,Sgtm,anim,gent,masc,sing)),\n",
       "                            Form('о',\n",
       "                                 Grams(Abbr,Fixd,Init,NOUN,Name,Sgtm,anim,datv,masc,sing)),\n",
       "                            Form('о',\n",
       "                                 Grams(Abbr,Fixd,Init,NOUN,Name,Sgtm,accs,anim,masc,sing)),\n",
       "                            Form('о',\n",
       "                                 Grams(Abbr,Fixd,Init,NOUN,Name,Sgtm,ablt,anim,masc,sing)),\n",
       "                            Form('о',\n",
       "                                 Grams(Abbr,Fixd,Init,NOUN,Name,Sgtm,anim,loct,masc,sing)),\n",
       "                            Form('о',\n",
       "                                 Grams(Abbr,Fixd,Init,NOUN,Patr,Sgtm,anim,masc,nomn,sing)),\n",
       "                            Form('о',\n",
       "                                 Grams(Abbr,Fixd,Init,NOUN,Patr,Sgtm,anim,gent,masc,sing)),\n",
       "                            Form('о',\n",
       "                                 Grams(Abbr,Fixd,Init,NOUN,Patr,Sgtm,anim,datv,masc,sing)),\n",
       "                            Form('о',\n",
       "                                 Grams(Abbr,Fixd,Init,NOUN,Patr,Sgtm,accs,anim,masc,sing)),\n",
       "                            Form('о',\n",
       "                                 Grams(Abbr,Fixd,Init,NOUN,Patr,Sgtm,ablt,anim,masc,sing)),\n",
       "                            Form('о',\n",
       "                                 Grams(Abbr,Fixd,Init,NOUN,Patr,Sgtm,anim,loct,masc,sing)),\n",
       "                            Form('о',\n",
       "                                 Grams(Abbr,Fixd,Init,NOUN,Name,Sgtm,anim,femn,nomn,sing)),\n",
       "                            Form('о',\n",
       "                                 Grams(Abbr,Fixd,Init,NOUN,Name,Sgtm,anim,femn,gent,sing)),\n",
       "                            Form('о',\n",
       "                                 Grams(Abbr,Fixd,Init,NOUN,Name,Sgtm,anim,datv,femn,sing)),\n",
       "                            Form('о',\n",
       "                                 Grams(Abbr,Fixd,Init,NOUN,Name,Sgtm,accs,anim,femn,sing)),\n",
       "                            Form('о',\n",
       "                                 Grams(Abbr,Fixd,Init,NOUN,Name,Sgtm,ablt,anim,femn,sing)),\n",
       "                            Form('о',\n",
       "                                 Grams(Abbr,Fixd,Init,NOUN,Name,Sgtm,anim,femn,loct,sing)),\n",
       "                            Form('о',\n",
       "                                 Grams(Abbr,Fixd,Init,NOUN,Patr,Sgtm,anim,femn,nomn,sing)),\n",
       "                            Form('о',\n",
       "                                 Grams(Abbr,Fixd,Init,NOUN,Patr,Sgtm,anim,femn,gent,sing)),\n",
       "                            Form('о',\n",
       "                                 Grams(Abbr,Fixd,Init,NOUN,Patr,Sgtm,anim,datv,femn,sing)),\n",
       "                            Form('о',\n",
       "                                 Grams(Abbr,Fixd,Init,NOUN,Patr,Sgtm,accs,anim,femn,sing)),\n",
       "                            Form('о',\n",
       "                                 Grams(Abbr,Fixd,Init,NOUN,Patr,Sgtm,ablt,anim,femn,sing)),\n",
       "                            Form('о',\n",
       "                                 Grams(Abbr,Fixd,Init,NOUN,Patr,Sgtm,anim,femn,loct,sing))]),\n",
       "                Token('.', [101, 102), 'PUNCT')],\n",
       "               [90, 102))])"
      ]
     },
     "execution_count": 6,
     "metadata": {},
     "output_type": "execute_result"
    }
   ],
   "source": [
    "extractor = ntsh.SimpleNamesExtractor()\n",
    "text = '''\n",
    "5 июля во Владимире встретятся Мустафа Джемилев, Владимир Путин, \n",
    "а также Плаксюк саша и Дерипаска О.\n",
    "'''\n",
    "matches = extractor(text)\n",
    "matches"
   ]
  },
  {
   "cell_type": "code",
   "execution_count": 7,
   "metadata": {
    "scrolled": true,
    "slideshow": {
     "slide_type": "subslide"
    }
   },
   "outputs": [
    {
     "name": "stdout",
     "output_type": "stream",
     "text": [
      "Name(first=None, middle=None, last='июль', nick=None)\n",
      "Name(first=None, middle=None, last='в', nick=None)\n",
      "Name(first='владимир', middle=None, last=None, nick=None)\n",
      "Name(first=None, middle=None, last='встретившийся', nick=None)\n",
      "Name(first='мустафа', middle=None, last='джемилев', nick=None)\n",
      "Name(first='владимир', middle=None, last='путин', nick=None)\n",
      "Name(first=None, middle=None, last='а', nick=None)\n",
      "Name(first=None, middle=None, last='плаксюк', nick=None)\n",
      "Name(first='саша', middle=None, last='и', nick=None)\n",
      "Name(first='О', middle=None, last='дерипаск', nick=None)\n"
     ]
    }
   ],
   "source": [
    "for match in matches:\n",
    "    print(match.fact)"
   ]
  },
  {
   "cell_type": "markdown",
   "metadata": {
    "slideshow": {
     "slide_type": "slide"
    }
   },
   "source": [
    "`SimpleNamesExtractor` стоит применять только когда в тексте имена"
   ]
  },
  {
   "cell_type": "code",
   "execution_count": 8,
   "metadata": {
    "slideshow": {
     "slide_type": "-"
    }
   },
   "outputs": [
    {
     "name": "stdout",
     "output_type": "stream",
     "text": [
      "Name(first='мустафа', middle=None, last='джемилев', nick=None)\n",
      "Name(first='владимир', middle=None, last='путин', nick=None)\n",
      "Name(first='саша', middle=None, last='плаксюк', nick=None)\n",
      "Name(first='О', middle=None, last='дерипаск', nick=None)\n",
      "Name(first='О', middle=None, last='дерипаск', nick=None)\n",
      "Name(first='александр', middle='сергеевич', last='п', nick=None)\n",
      "Name(first='данил', middle=None, last='п', nick=None)\n",
      "Name(first=None, middle=None, last='п', nick=None)\n"
     ]
    }
   ],
   "source": [
    "extractor = ntsh.SimpleNamesExtractor()\n",
    "text = [\n",
    "    'Мустафа Джемилев', \n",
    "    'Владимир Путин', \n",
    "    'Плаксюк саша',\n",
    "    'Дерипаска О.',\n",
    "    'О. Дерипаска',\n",
    "    'Александр Сергеевич П.',\n",
    "    'Данила П.',\n",
    "    'П. Данила'\n",
    "]\n",
    "\n",
    "for phrase in text:\n",
    "    matches = extractor(phrase)\n",
    "    print(matches[0].fact) ## Планируется избавиться от Владимира"
   ]
  },
  {
   "cell_type": "markdown",
   "metadata": {
    "slideshow": {
     "slide_type": "slide"
    }
   },
   "source": [
    "### Даты"
   ]
  },
  {
   "cell_type": "code",
   "execution_count": 11,
   "metadata": {
    "slideshow": {
     "slide_type": "-"
    }
   },
   "outputs": [
    {
     "data": {
      "text/html": [
       "<style>\n",
       "\n",
       ".markup {\n",
       "    white-space: pre-wrap;\n",
       "}\n",
       "\n",
       ".markup > mark {\n",
       "    padding: 0.15em;\n",
       "    border-radius: 0.25em;\n",
       "    border: 1px solid #fdf07c;\n",
       "    background: #ffffc2;\n",
       "}\n",
       "    </style><div class=\"markup tex2jax_ignore\">\n",
       "Я посмотрел на инфляцию в России, взял период с <mark>декабря 2002 года</mark>\n",
       "по <mark>декабрь 2015 года</mark> Инфляция 246%.\n",
       "\n",
       "14.14 <mark>29 июня 2016 года</mark>:   Наиболее ожесточенные бои ночью шли под\n",
       "Дебальцево\n",
       "</div>"
      ],
      "text/plain": [
       "Matches('\\nЯ посмотрел на инфляцию в России, взял период с декабря 2002 года\\nпо декабрь 2015 года Инфляция 246%.\\n\\n14.14 29 июня 2016 года:   Наиболее ожесточенные бои ночью шли под\\nДебальцево\\n',\n",
       "        [Match([MorphToken('декабря',\n",
       "                           [49, 56),\n",
       "                           'RU',\n",
       "                           [Form('декабрь', Grams(NOUN,gent,inan,masc,sing))]),\n",
       "                Token('2002', [57, 61), 'INT'),\n",
       "                MorphToken('года',\n",
       "                           [62, 66),\n",
       "                           'RU',\n",
       "                           [Form('год', Grams(NOUN,gent,inan,masc,sing)),\n",
       "                            Form('год', Grams(Infr,NOUN,inan,masc,nomn,plur)),\n",
       "                            Form('год',\n",
       "                                 Grams(Infr,NOUN,accs,inan,masc,plur))])],\n",
       "               [49, 66)),\n",
       "         Match([MorphToken('декабрь',\n",
       "                           [70, 77),\n",
       "                           'RU',\n",
       "                           [Form('декабрь', Grams(NOUN,accs,inan,masc,sing)),\n",
       "                            Form('декабрь', Grams(NOUN,inan,masc,nomn,sing))]),\n",
       "                Token('2015', [78, 82), 'INT'),\n",
       "                MorphToken('года',\n",
       "                           [83, 87),\n",
       "                           'RU',\n",
       "                           [Form('год', Grams(NOUN,gent,inan,masc,sing)),\n",
       "                            Form('год', Grams(Infr,NOUN,inan,masc,nomn,plur)),\n",
       "                            Form('год',\n",
       "                                 Grams(Infr,NOUN,accs,inan,masc,plur))])],\n",
       "               [70, 87)),\n",
       "         Match([Token('29', [110, 112), 'INT'),\n",
       "                MorphToken('июня',\n",
       "                           [113, 117),\n",
       "                           'RU',\n",
       "                           [Form('июнь', Grams(NOUN,gent,inan,masc,sing))]),\n",
       "                Token('2016', [118, 122), 'INT'),\n",
       "                MorphToken('года',\n",
       "                           [123, 127),\n",
       "                           'RU',\n",
       "                           [Form('год', Grams(NOUN,gent,inan,masc,sing)),\n",
       "                            Form('год', Grams(Infr,NOUN,inan,masc,nomn,plur)),\n",
       "                            Form('год',\n",
       "                                 Grams(Infr,NOUN,accs,inan,masc,plur))])],\n",
       "               [110, 127))])"
      ]
     },
     "execution_count": 11,
     "metadata": {},
     "output_type": "execute_result"
    }
   ],
   "source": [
    "extractor = ntsh.DatesExtractor()\n",
    "text = '''\n",
    "Я посмотрел на инфляцию в России, взял период с декабря 2002 года\n",
    "по декабрь 2015 года Инфляция 246%.\n",
    "\n",
    "14.14 29 июня 2016 года:   Наиболее ожесточенные бои ночью шли под\n",
    "Дебальцево\n",
    "'''\n",
    "matches = extractor(text)\n",
    "matches"
   ]
  },
  {
   "cell_type": "code",
   "execution_count": 12,
   "metadata": {
    "scrolled": false,
    "slideshow": {
     "slide_type": "subslide"
    }
   },
   "outputs": [
    {
     "name": "stdout",
     "output_type": "stream",
     "text": [
      "Date(year=2002, month=12, day=None, current_era=True)\n",
      "Date(year=2015, month=12, day=None, current_era=True)\n",
      "Date(year=2016, month=6, day=29, current_era=True)\n"
     ]
    }
   ],
   "source": [
    "for index, match in enumerate(matches):\n",
    "    print(match.fact)"
   ]
  },
  {
   "cell_type": "markdown",
   "metadata": {
    "slideshow": {
     "slide_type": "slide"
    }
   },
   "source": [
    "### Персоналии"
   ]
  },
  {
   "cell_type": "code",
   "execution_count": 13,
   "metadata": {
    "slideshow": {
     "slide_type": "-"
    }
   },
   "outputs": [
    {
     "data": {
      "text/html": [
       "<style>\n",
       "\n",
       ".markup {\n",
       "    white-space: pre-wrap;\n",
       "}\n",
       "\n",
       ".markup > mark {\n",
       "    padding: 0.15em;\n",
       "    border-radius: 0.25em;\n",
       "    border: 1px solid #fdf07c;\n",
       "    background: #ffffc2;\n",
       "}\n",
       "    </style><div class=\"markup tex2jax_ignore\">\n",
       "<mark>Президент Николя Саркози</mark>, \n",
       "как и <mark>Вице-премьер правительства РФ Дмитрий Козак</mark>, позвонил \n",
       "<mark>Вице-президенту и Председателю</mark> правительства <mark>Геннадию Рушайло</mark>,\n",
       "чтобы связаться со \n",
       "Старостой 624 группы или \n",
       "Ректором факультета ВМК МГУ \n",
       "<mark>Директором Данилой Пучкиным</mark> Андреевичем\n",
       "</div>"
      ],
      "text/plain": [
       "Matches('\\nПрезидент Николя Саркози, \\nкак и Вице-премьер правительства РФ Дмитрий Козак, позвонил \\nВице-президенту и Председателю правительства Геннадию Рушайло,\\nчтобы связаться со \\nСтаростой 624 группы или \\nРектором факультета ВМК МГУ \\nДиректором Данилой Пучкиным Андреевичем\\n',\n",
       "        [Match([MorphTagToken('Президент',\n",
       "                              [1, 10),\n",
       "                              'RU',\n",
       "                              'O',\n",
       "                              [Form('президент',\n",
       "                                    Grams(NOUN,anim,masc,nomn,sing))]),\n",
       "                MorphTagToken('Николя',\n",
       "                              [11, 17),\n",
       "                              'RU',\n",
       "                              'I',\n",
       "                              [Form('николя',\n",
       "                                    Grams(Fixd,NOUN,Name,Sgtm,anim,masc,nomn,sing)),\n",
       "                               Form('николя',\n",
       "                                    Grams(Fixd,NOUN,Name,Sgtm,anim,gent,masc,sing)),\n",
       "                               Form('николя',\n",
       "                                    Grams(Fixd,NOUN,Name,Sgtm,anim,datv,masc,sing)),\n",
       "                               Form('николя',\n",
       "                                    Grams(Fixd,NOUN,Name,Sgtm,accs,anim,masc,sing)),\n",
       "                               Form('николя',\n",
       "                                    Grams(Fixd,NOUN,Name,Sgtm,ablt,anim,masc,sing)),\n",
       "                               Form('николя',\n",
       "                                    Grams(Fixd,NOUN,Name,Sgtm,anim,loct,masc,sing))]),\n",
       "                MorphTagToken('Саркози',\n",
       "                              [18, 25),\n",
       "                              'RU',\n",
       "                              'I',\n",
       "                              [Form('саркози',\n",
       "                                    Grams(Fixd,GNdr,Ms-f,NOUN,Surn,anim,nomn,sing)),\n",
       "                               Form('саркози',\n",
       "                                    Grams(Fixd,GNdr,Ms-f,NOUN,Surn,anim,gent,sing)),\n",
       "                               Form('саркози',\n",
       "                                    Grams(Fixd,GNdr,Ms-f,NOUN,Surn,anim,datv,sing)),\n",
       "                               Form('саркози',\n",
       "                                    Grams(Fixd,GNdr,Ms-f,NOUN,Surn,accs,anim,sing)),\n",
       "                               Form('саркози',\n",
       "                                    Grams(Fixd,GNdr,Ms-f,NOUN,Surn,ablt,anim,sing)),\n",
       "                               Form('саркози',\n",
       "                                    Grams(Fixd,GNdr,Ms-f,NOUN,Surn,anim,loct,sing))])],\n",
       "               [1, 25)),\n",
       "         Match([MorphTagToken('Вице',\n",
       "                              [34, 38),\n",
       "                              'RU',\n",
       "                              'O',\n",
       "                              [Form('вица', Grams(NOUN,datv,femn,inan,sing)),\n",
       "                               Form('вица', Grams(NOUN,femn,inan,loct,sing))]),\n",
       "                TagToken('-', [38, 39), 'PUNCT', 'O'),\n",
       "                MorphTagToken('премьер',\n",
       "                              [39, 46),\n",
       "                              'RU',\n",
       "                              'O',\n",
       "                              [Form('премьер',\n",
       "                                    Grams(NOUN,anim,masc,nomn,sing)),\n",
       "                               Form('премьера',\n",
       "                                    Grams(NOUN,femn,gent,inan,plur))]),\n",
       "                MorphTagToken('правительства',\n",
       "                              [47, 60),\n",
       "                              'RU',\n",
       "                              'O',\n",
       "                              [Form('правительство',\n",
       "                                    Grams(NOUN,gent,inan,neut,sing))]),\n",
       "                MorphTagToken('РФ',\n",
       "                              [61, 63),\n",
       "                              'RU',\n",
       "                              'O',\n",
       "                              [Form('рф',\n",
       "                                    Grams(Abbr,Fixd,Geox,NOUN,Sgtm,femn,gent,inan,sing))]),\n",
       "                MorphTagToken('Дмитрий',\n",
       "                              [64, 71),\n",
       "                              'RU',\n",
       "                              'I',\n",
       "                              [Form('дмитрий',\n",
       "                                    Grams(NOUN,Name,anim,masc,nomn,sing))]),\n",
       "                MorphTagToken('Козак',\n",
       "                              [72, 77),\n",
       "                              'RU',\n",
       "                              'I',\n",
       "                              [Form('козак',\n",
       "                                    Grams(NOUN,Sgtm,Surn,anim,masc,nomn,sing))])],\n",
       "               [34, 77)),\n",
       "         Match([MorphTagToken('Вице',\n",
       "                              [89, 93),\n",
       "                              'RU',\n",
       "                              'O',\n",
       "                              [Form('вица', Grams(NOUN,datv,femn,inan,sing)),\n",
       "                               Form('вица', Grams(NOUN,femn,inan,loct,sing))]),\n",
       "                TagToken('-', [93, 94), 'PUNCT', 'O'),\n",
       "                MorphTagToken('президенту',\n",
       "                              [94, 104),\n",
       "                              'RU',\n",
       "                              'O',\n",
       "                              [Form('президент',\n",
       "                                    Grams(NOUN,anim,datv,masc,sing))]),\n",
       "                MorphTagToken('и',\n",
       "                              [105, 106),\n",
       "                              'RU',\n",
       "                              'O',\n",
       "                              [Form('исполняющий',\n",
       "                                    Grams(Abbr,Fixd,NOUN,anim,gent,masc,sing)),\n",
       "                               Form('исполняющий',\n",
       "                                    Grams(Abbr,Fixd,NOUN,anim,gent,masc,plur))]),\n",
       "                MorphTagToken('Председателю',\n",
       "                              [107, 119),\n",
       "                              'RU',\n",
       "                              'O',\n",
       "                              [Form('председатель',\n",
       "                                    Grams(NOUN,anim,datv,masc,sing))])],\n",
       "               [89, 119)),\n",
       "         Match([MorphTagToken('Геннадию',\n",
       "                              [134, 142),\n",
       "                              'RU',\n",
       "                              'I',\n",
       "                              [Form('геннадий',\n",
       "                                    Grams(NOUN,Name,anim,datv,masc,sing)),\n",
       "                               Form('геннадия',\n",
       "                                    Grams(NOUN,Name,accs,anim,femn,sing))]),\n",
       "                MorphTagToken('Рушайло',\n",
       "                              [143, 150),\n",
       "                              'RU',\n",
       "                              'I',\n",
       "                              [Form('рушайло',\n",
       "                                    Grams(Fixd,GNdr,Ms-f,NOUN,Surn,anim,nomn,sing)),\n",
       "                               Form('рушайло',\n",
       "                                    Grams(Fixd,GNdr,Ms-f,NOUN,Surn,anim,gent,sing)),\n",
       "                               Form('рушайло',\n",
       "                                    Grams(Fixd,GNdr,Ms-f,NOUN,Surn,anim,datv,sing)),\n",
       "                               Form('рушайло',\n",
       "                                    Grams(Fixd,GNdr,Ms-f,NOUN,Surn,accs,anim,sing)),\n",
       "                               Form('рушайло',\n",
       "                                    Grams(Fixd,GNdr,Ms-f,NOUN,Surn,ablt,anim,sing)),\n",
       "                               Form('рушайло',\n",
       "                                    Grams(Fixd,GNdr,Ms-f,NOUN,Surn,anim,loct,sing))])],\n",
       "               [134, 150)),\n",
       "         Match([MorphTagToken('Директором',\n",
       "                              [227, 237),\n",
       "                              'RU',\n",
       "                              'O',\n",
       "                              [Form('директор',\n",
       "                                    Grams(NOUN,ablt,anim,masc,sing))]),\n",
       "                MorphTagToken('Данилой',\n",
       "                              [238, 245),\n",
       "                              'RU',\n",
       "                              'I',\n",
       "                              [Form('данила',\n",
       "                                    Grams(NOUN,Name,ablt,anim,masc,sing))]),\n",
       "                MorphTagToken('Пучкиным',\n",
       "                              [246, 254),\n",
       "                              'RU',\n",
       "                              'I',\n",
       "                              [Form('пучкин',\n",
       "                                    Grams(NOUN,Sgtm,Surn,ablt,anim,masc,sing)),\n",
       "                               Form('пучкин',\n",
       "                                    Grams(ADJF,Poss,ablt,masc,sing))])],\n",
       "               [227, 254))])"
      ]
     },
     "execution_count": 13,
     "metadata": {},
     "output_type": "execute_result"
    }
   ],
   "source": [
    "extractor = ntsh.PersonExtractor()\n",
    "text = '''\n",
    "Президент Николя Саркози, \n",
    "как и Вице-премьер правительства РФ Дмитрий Козак, позвонил \n",
    "Вице-президенту и Председателю правительства Геннадию Рушайло,\n",
    "чтобы связаться со \n",
    "Старостой 624 группы или \n",
    "Ректором факультета ВМК МГУ \n",
    "Директором Данилой Пучкиным Андреевичем\n",
    "'''\n",
    "matches = extractor(text)\n",
    "matches"
   ]
  },
  {
   "cell_type": "code",
   "execution_count": 14,
   "metadata": {
    "scrolled": true,
    "slideshow": {
     "slide_type": "subslide"
    }
   },
   "outputs": [
    {
     "name": "stdout",
     "output_type": "stream",
     "text": [
      "Person(position='Президент', name=Name(first='николя', middle=None, last='саркози', nick=None))\n",
      "Person(position='Вице-премьер правительства РФ', name=Name(first='дмитрий', middle=None, last='козак', nick=None))\n",
      "Person(position='Вице-президенту и', name=Name(first=None, middle=None, last='председатель', nick=None))\n",
      "Person(position=None, name=Name(first='геннадий', middle=None, last='рушайло', nick=None))\n",
      "Person(position='Директором', name=Name(first='данила', middle=None, last='пучкин', nick=None))\n"
     ]
    }
   ],
   "source": [
    "for index, match in enumerate(matches):\n",
    "    print(match.fact)"
   ]
  },
  {
   "cell_type": "markdown",
   "metadata": {
    "slideshow": {
     "slide_type": "slide"
    }
   },
   "source": [
    "### Места"
   ]
  },
  {
   "cell_type": "code",
   "execution_count": 15,
   "metadata": {
    "slideshow": {
     "slide_type": "-"
    }
   },
   "outputs": [
    {
     "data": {
      "text/html": [
       "<style>\n",
       "\n",
       ".markup {\n",
       "    white-space: pre-wrap;\n",
       "}\n",
       "\n",
       ".markup > mark {\n",
       "    padding: 0.15em;\n",
       "    border-radius: 0.25em;\n",
       "    border: 1px solid #fdf07c;\n",
       "    background: #ffffc2;\n",
       "}\n",
       "    </style><div class=\"markup tex2jax_ignore\">\n",
       "Я посмотрел на инфляцию в <mark>России</mark>, взял период с декабря 2002 года\n",
       "по декабрь 2015 года Инфляция 246%.\n",
       "\n",
       "14.14 29 июня 2016 года:   Наиболее ожесточенные бои ночью шли под\n",
       "<mark>Дебальцево</mark>\n",
       "</div>"
      ],
      "text/plain": [
       "Matches('\\nЯ посмотрел на инфляцию в России, взял период с декабря 2002 года\\nпо декабрь 2015 года Инфляция 246%.\\n\\n14.14 29 июня 2016 года:   Наиболее ожесточенные бои ночью шли под\\nДебальцево\\n',\n",
       "        [Match([MorphToken('России',\n",
       "                           [27, 33),\n",
       "                           'RU',\n",
       "                           [Form('россия',\n",
       "                                 Grams(Geox,NOUN,Sgtm,femn,gent,inan,sing)),\n",
       "                            Form('россия',\n",
       "                                 Grams(Geox,NOUN,Sgtm,femn,inan,loct,sing)),\n",
       "                            Form('россия',\n",
       "                                 Grams(Geox,NOUN,Sgtm,datv,femn,inan,sing))])],\n",
       "               [27, 33)),\n",
       "         Match([MorphToken('Дебальцево',\n",
       "                           [171, 181),\n",
       "                           'RU',\n",
       "                           [Form('дебальцево',\n",
       "                                 Grams(Geox,NOUN,Sgtm,inan,neut,nomn,sing)),\n",
       "                            Form('дебальцево',\n",
       "                                 Grams(Geox,NOUN,Sgtm,accs,inan,neut,sing))])],\n",
       "               [171, 181))])"
      ]
     },
     "execution_count": 15,
     "metadata": {},
     "output_type": "execute_result"
    }
   ],
   "source": [
    "extractor = ntsh.LocationExtractor()\n",
    "text = '''\n",
    "Я посмотрел на инфляцию в России, взял период с декабря 2002 года\n",
    "по декабрь 2015 года Инфляция 246%.\n",
    "\n",
    "14.14 29 июня 2016 года:   Наиболее ожесточенные бои ночью шли под\n",
    "Дебальцево\n",
    "'''\n",
    "matches = extractor(text)\n",
    "matches"
   ]
  },
  {
   "cell_type": "code",
   "execution_count": 16,
   "metadata": {
    "scrolled": false,
    "slideshow": {
     "slide_type": "subslide"
    }
   },
   "outputs": [
    {
     "name": "stdout",
     "output_type": "stream",
     "text": [
      "Location(name='россия')\n",
      "Location(name='дебальцево')\n"
     ]
    }
   ],
   "source": [
    "for index, match in enumerate(matches):\n",
    "    print(match.fact)"
   ]
  },
  {
   "cell_type": "markdown",
   "metadata": {
    "slideshow": {
     "slide_type": "slide"
    }
   },
   "source": [
    "### Адреса"
   ]
  },
  {
   "cell_type": "code",
   "execution_count": 17,
   "metadata": {
    "slideshow": {
     "slide_type": "-"
    }
   },
   "outputs": [
    {
     "data": {
      "text/html": [
       "<style>\n",
       "\n",
       ".markup {\n",
       "    white-space: pre-wrap;\n",
       "}\n",
       "\n",
       ".markup > mark {\n",
       "    padding: 0.15em;\n",
       "    border-radius: 0.25em;\n",
       "    border: 1px solid #fdf07c;\n",
       "    background: #ffffc2;\n",
       "}\n",
       "    </style><div class=\"markup tex2jax_ignore\">\n",
       "5 июля во Владимире встретятся Мустафа Джемилев, Владимир Путин, \n",
       "а также Плаксюк саша и Дерипаска О.\n",
       "Офис и шоу-рум в Красноярске работает с 14.00 до 17.00 по адресу \n",
       "<mark>129344, Московская обл., Изобильненский район, \n",
       "пгт.Красноряск ул.Парижской Коммуны, 14/112, \n",
       "стр. 179, корпус 1, оф.14</mark>.\n",
       "</div>"
      ],
      "text/plain": [
       "Matches('\\n5 июля во Владимире встретятся Мустафа Джемилев, Владимир Путин, \\nа также Плаксюк саша и Дерипаска О.\\nОфис и шоу-рум в Красноярске работает с 14.00 до 17.00 по адресу \\n129344, Московская обл., Изобильненский район, \\nпгт.Красноряск ул.Парижской Коммуны, 14/112, \\nстр. 179, корпус 1, оф.14.\\n',\n",
       "        [Match([TagToken('129344', [169, 175), 'INT', 'O'),\n",
       "                TagToken(',', [175, 176), 'PUNCT', 'O'),\n",
       "                MorphTagToken('Московская',\n",
       "                              [177, 187),\n",
       "                              'RU',\n",
       "                              'O',\n",
       "                              [Form('московский', Grams(ADJF,femn,nomn,sing)),\n",
       "                               Form('московский',\n",
       "                                    Grams(NOUN,Sgtm,Surn,anim,femn,nomn,sing))]),\n",
       "                MorphTagToken('обл',\n",
       "                              [188, 191),\n",
       "                              'RU',\n",
       "                              'O',\n",
       "                              [Form('область',\n",
       "                                    Grams(Abbr,Fixd,NOUN,femn,inan,nomn,sing)),\n",
       "                               Form('область',\n",
       "                                    Grams(Abbr,Fixd,NOUN,femn,gent,inan,sing)),\n",
       "                               Form('область',\n",
       "                                    Grams(Abbr,Fixd,NOUN,datv,femn,inan,sing)),\n",
       "                               Form('область',\n",
       "                                    Grams(Abbr,Fixd,NOUN,accs,femn,inan,sing)),\n",
       "                               Form('область',\n",
       "                                    Grams(Abbr,Fixd,NOUN,ablt,femn,inan,sing)),\n",
       "                               Form('область',\n",
       "                                    Grams(Abbr,Fixd,NOUN,femn,inan,loct,sing)),\n",
       "                               Form('область',\n",
       "                                    Grams(Abbr,Fixd,NOUN,femn,inan,nomn,plur)),\n",
       "                               Form('область',\n",
       "                                    Grams(Abbr,Fixd,NOUN,femn,gent,inan,plur)),\n",
       "                               Form('область',\n",
       "                                    Grams(Abbr,Fixd,NOUN,datv,femn,inan,plur)),\n",
       "                               Form('область',\n",
       "                                    Grams(Abbr,Fixd,NOUN,accs,femn,inan,plur)),\n",
       "                               Form('область',\n",
       "                                    Grams(Abbr,Fixd,NOUN,ablt,femn,inan,plur)),\n",
       "                               Form('область',\n",
       "                                    Grams(Abbr,Fixd,NOUN,femn,inan,loct,plur))]),\n",
       "                TagToken('.', [191, 192), 'PUNCT', 'O'),\n",
       "                TagToken(',', [192, 193), 'PUNCT', 'O'),\n",
       "                MorphTagToken('Изобильненский',\n",
       "                              [194, 208),\n",
       "                              'RU',\n",
       "                              'O',\n",
       "                              [Form('изобильненский',\n",
       "                                    Grams(ADJF,masc,nomn,sing)),\n",
       "                               Form('изобильненский',\n",
       "                                    Grams(ADJF,accs,inan,masc,sing))]),\n",
       "                MorphTagToken('район',\n",
       "                              [209, 214),\n",
       "                              'RU',\n",
       "                              'O',\n",
       "                              [Form('район', Grams(NOUN,inan,masc,nomn,sing)),\n",
       "                               Form('район',\n",
       "                                    Grams(NOUN,accs,inan,masc,sing))]),\n",
       "                TagToken(',', [214, 215), 'PUNCT', 'O'),\n",
       "                MorphTagToken('пгт',\n",
       "                              [217, 220),\n",
       "                              'RU',\n",
       "                              'O',\n",
       "                              [Form('пгт',\n",
       "                                    Grams(Fixd,NOUN,inan,masc,nomn,sing)),\n",
       "                               Form('пгт',\n",
       "                                    Grams(Fixd,NOUN,gent,inan,masc,sing)),\n",
       "                               Form('пгт',\n",
       "                                    Grams(Fixd,NOUN,datv,inan,masc,sing)),\n",
       "                               Form('пгт',\n",
       "                                    Grams(Fixd,NOUN,accs,inan,masc,sing)),\n",
       "                               Form('пгт',\n",
       "                                    Grams(Fixd,NOUN,ablt,inan,masc,sing)),\n",
       "                               Form('пгт',\n",
       "                                    Grams(Fixd,NOUN,inan,loct,masc,sing)),\n",
       "                               Form('пгт',\n",
       "                                    Grams(Fixd,NOUN,inan,masc,nomn,plur)),\n",
       "                               Form('пгт',\n",
       "                                    Grams(Fixd,NOUN,gent,inan,masc,plur)),\n",
       "                               Form('пгт',\n",
       "                                    Grams(Fixd,NOUN,datv,inan,masc,plur)),\n",
       "                               Form('пгт',\n",
       "                                    Grams(Fixd,NOUN,accs,inan,masc,plur)),\n",
       "                               Form('пгт',\n",
       "                                    Grams(Fixd,NOUN,ablt,inan,masc,plur)),\n",
       "                               Form('пгт',\n",
       "                                    Grams(Fixd,NOUN,inan,loct,masc,plur))]),\n",
       "                TagToken('.', [220, 221), 'PUNCT', 'O'),\n",
       "                MorphTagToken('Красноряск',\n",
       "                              [221, 231),\n",
       "                              'RU',\n",
       "                              'O',\n",
       "                              [Form('красноряск',\n",
       "                                    Grams(NOUN,inan,masc,nomn,sing)),\n",
       "                               Form('красноряск',\n",
       "                                    Grams(NOUN,accs,inan,masc,sing))]),\n",
       "                MorphTagToken('ул',\n",
       "                              [232, 234),\n",
       "                              'RU',\n",
       "                              'O',\n",
       "                              [Form('ул', Grams(UNKN))]),\n",
       "                TagToken('.', [234, 235), 'PUNCT', 'O'),\n",
       "                MorphTagToken('Парижской',\n",
       "                              [235, 244),\n",
       "                              'RU',\n",
       "                              'I',\n",
       "                              [Form('парижский', Grams(ADJF,datv,femn,sing)),\n",
       "                               Form('парижский', Grams(ADJF,femn,gent,sing)),\n",
       "                               Form('парижский', Grams(ADJF,ablt,femn,sing)),\n",
       "                               Form('парижский', Grams(ADJF,femn,loct,sing))]),\n",
       "                MorphTagToken('Коммуны',\n",
       "                              [245, 252),\n",
       "                              'RU',\n",
       "                              'I',\n",
       "                              [Form('коммуна',\n",
       "                                    Grams(NOUN,femn,gent,inan,sing)),\n",
       "                               Form('коммуна',\n",
       "                                    Grams(NOUN,femn,inan,nomn,plur)),\n",
       "                               Form('коммуна',\n",
       "                                    Grams(NOUN,accs,femn,inan,plur))]),\n",
       "                TagToken(',', [252, 253), 'PUNCT', 'O'),\n",
       "                TagToken('14', [254, 256), 'INT', 'O'),\n",
       "                TagToken('/', [256, 257), 'PUNCT', 'O'),\n",
       "                TagToken('112', [257, 260), 'INT', 'O'),\n",
       "                TagToken(',', [260, 261), 'PUNCT', 'O'),\n",
       "                MorphTagToken('стр',\n",
       "                              [263, 266),\n",
       "                              'RU',\n",
       "                              'O',\n",
       "                              [Form('страница',\n",
       "                                    Grams(Abbr,Fixd,NOUN,femn,inan,nomn,sing)),\n",
       "                               Form('страница',\n",
       "                                    Grams(Abbr,Fixd,NOUN,femn,gent,inan,sing)),\n",
       "                               Form('страница',\n",
       "                                    Grams(Abbr,Fixd,NOUN,datv,femn,inan,sing)),\n",
       "                               Form('страница',\n",
       "                                    Grams(Abbr,Fixd,NOUN,accs,femn,inan,sing)),\n",
       "                               Form('страница',\n",
       "                                    Grams(Abbr,Fixd,NOUN,ablt,femn,inan,sing)),\n",
       "                               Form('страница',\n",
       "                                    Grams(Abbr,Fixd,NOUN,femn,inan,loct,sing)),\n",
       "                               Form('страница',\n",
       "                                    Grams(Abbr,Fixd,NOUN,femn,inan,nomn,plur)),\n",
       "                               Form('страница',\n",
       "                                    Grams(Abbr,Fixd,NOUN,femn,gent,inan,plur)),\n",
       "                               Form('страница',\n",
       "                                    Grams(Abbr,Fixd,NOUN,datv,femn,inan,plur)),\n",
       "                               Form('страница',\n",
       "                                    Grams(Abbr,Fixd,NOUN,accs,femn,inan,plur)),\n",
       "                               Form('страница',\n",
       "                                    Grams(Abbr,Fixd,NOUN,ablt,femn,inan,plur)),\n",
       "                               Form('страница',\n",
       "                                    Grams(Abbr,Fixd,NOUN,femn,inan,loct,plur))]),\n",
       "                TagToken('.', [266, 267), 'PUNCT', 'O'),\n",
       "                TagToken('179', [268, 271), 'INT', 'O'),\n",
       "                TagToken(',', [271, 272), 'PUNCT', 'O'),\n",
       "                MorphTagToken('корпус',\n",
       "                              [273, 279),\n",
       "                              'RU',\n",
       "                              'O',\n",
       "                              [Form('корпус', Grams(NOUN,accs,inan,masc,sing)),\n",
       "                               Form('корпус',\n",
       "                                    Grams(NOUN,inan,masc,nomn,sing))]),\n",
       "                TagToken('1', [280, 281), 'INT', 'O'),\n",
       "                TagToken(',', [281, 282), 'PUNCT', 'O'),\n",
       "                MorphTagToken('оф',\n",
       "                              [283, 285),\n",
       "                              'RU',\n",
       "                              'O',\n",
       "                              [Form('оф', Grams(UNKN))]),\n",
       "                TagToken('.', [285, 286), 'PUNCT', 'O'),\n",
       "                TagToken('14', [286, 288), 'INT', 'O')],\n",
       "               [169, 288))])"
      ]
     },
     "execution_count": 17,
     "metadata": {},
     "output_type": "execute_result"
    }
   ],
   "source": [
    "extractor = ntsh.AddressExtractor()\n",
    "text = '''\n",
    "5 июля во Владимире встретятся Мустафа Джемилев, Владимир Путин, \n",
    "а также Плаксюк саша и Дерипаска О.\n",
    "Офис и шоу-рум в Красноярске работает с 14.00 до 17.00 по адресу \n",
    "129344, Московская обл., Изобильненский район, \n",
    "пгт.Красноряск ул.Парижской Коммуны, 14/112, \n",
    "стр. 179, корпус 1, оф.14.\n",
    "'''\n",
    "matches = extractor(text)\n",
    "matches"
   ]
  },
  {
   "cell_type": "code",
   "execution_count": 18,
   "metadata": {
    "scrolled": true,
    "slideshow": {
     "slide_type": "subslide"
    }
   },
   "outputs": [
    {
     "name": "stdout",
     "output_type": "stream",
     "text": [
      "Address(parts=[Index(value='129344'), Region(name='Московская', type='область'), Region(name='Изобильненский', type='район'), Settlement(name='Красноряск', type='посёлок'), Street(name='Парижской Коммуны', type='улица'), Building(number='14/112', type=None), Building(number=None, type='строение'), Building(number='1', type='корпус'), Room(number='14', type='офис')])\n"
     ]
    }
   ],
   "source": [
    "for index, match in enumerate(matches):\n",
    "    print(match.fact)"
   ]
  },
  {
   "cell_type": "markdown",
   "metadata": {
    "slideshow": {
     "slide_type": "slide"
    }
   },
   "source": [
    "### Организации"
   ]
  },
  {
   "cell_type": "code",
   "execution_count": 19,
   "metadata": {
    "slideshow": {
     "slide_type": "-"
    }
   },
   "outputs": [
    {
     "data": {
      "text/html": [
       "<style>\n",
       "\n",
       ".markup {\n",
       "    white-space: pre-wrap;\n",
       "}\n",
       "\n",
       ".markup > mark {\n",
       "    padding: 0.15em;\n",
       "    border-radius: 0.25em;\n",
       "    border: 1px solid #fdf07c;\n",
       "    background: #ffffc2;\n",
       "}\n",
       "    </style><div class=\"markup tex2jax_ignore\">\n",
       "<mark>ПАО «Газпром»</mark>,\n",
       "<mark>публичное акционерное общество \"Газпром\"</mark>,\n",
       "<mark>историческое общество \"Мемориал\"</mark>,\n",
       "<mark>коммерческое производственное объединение \"Вектор\"</mark>,\n",
       "<mark>правозащитный центр «Мемориал»</mark>\n",
       "факультет ВМК <mark>МГУ имени М</mark>.В. Ломоносова\n",
       "Интересное сообщество национальных партий Хиросимы\n",
       "</div>"
      ],
      "text/plain": [
       "Matches('\\nПАО «Газпром»,\\nпубличное акционерное общество \"Газпром\",\\nисторическое общество \"Мемориал\",\\nкоммерческое производственное объединение \"Вектор\",\\nправозащитный центр «Мемориал»\\nфакультет ВМК МГУ имени М.В. Ломоносова\\nИнтересное сообщество национальных партий Хиросимы\\n',\n",
       "        [Match([MorphToken('ПАО', [1, 4), 'RU', [Form('пао', Grams(UNKN))]),\n",
       "                Token('«', [5, 6), 'PUNCT'),\n",
       "                MorphToken('Газпром',\n",
       "                           [6, 13),\n",
       "                           'RU',\n",
       "                           [Form('газпром',\n",
       "                                 Grams(NOUN,Orgn,inan,masc,nomn,sing)),\n",
       "                            Form('газпром',\n",
       "                                 Grams(NOUN,Orgn,accs,inan,masc,sing))]),\n",
       "                Token('»', [13, 14), 'PUNCT')],\n",
       "               [1, 14)),\n",
       "         Match([MorphToken('публичное',\n",
       "                           [16, 25),\n",
       "                           'RU',\n",
       "                           [Form('публичный', Grams(ADJF,Qual,accs,neut,sing)),\n",
       "                            Form('публичный',\n",
       "                                 Grams(ADJF,Qual,neut,nomn,sing))]),\n",
       "                MorphToken('акционерное',\n",
       "                           [26, 37),\n",
       "                           'RU',\n",
       "                           [Form('акционерный', Grams(ADJF,neut,nomn,sing)),\n",
       "                            Form('акционерный', Grams(ADJF,accs,neut,sing))]),\n",
       "                MorphToken('общество',\n",
       "                           [38, 46),\n",
       "                           'RU',\n",
       "                           [Form('общество', Grams(NOUN,inan,neut,nomn,sing)),\n",
       "                            Form('общество',\n",
       "                                 Grams(NOUN,accs,inan,neut,sing))]),\n",
       "                Token('\"', [47, 48), 'PUNCT'),\n",
       "                MorphToken('Газпром',\n",
       "                           [48, 55),\n",
       "                           'RU',\n",
       "                           [Form('газпром',\n",
       "                                 Grams(NOUN,Orgn,inan,masc,nomn,sing)),\n",
       "                            Form('газпром',\n",
       "                                 Grams(NOUN,Orgn,accs,inan,masc,sing))]),\n",
       "                Token('\"', [55, 56), 'PUNCT')],\n",
       "               [16, 56)),\n",
       "         Match([MorphToken('историческое',\n",
       "                           [58, 70),\n",
       "                           'RU',\n",
       "                           [Form('исторический', Grams(ADJF,accs,neut,sing)),\n",
       "                            Form('исторический', Grams(ADJF,neut,nomn,sing))]),\n",
       "                MorphToken('общество',\n",
       "                           [71, 79),\n",
       "                           'RU',\n",
       "                           [Form('общество', Grams(NOUN,inan,neut,nomn,sing)),\n",
       "                            Form('общество',\n",
       "                                 Grams(NOUN,accs,inan,neut,sing))]),\n",
       "                Token('\"', [80, 81), 'PUNCT'),\n",
       "                MorphToken('Мемориал',\n",
       "                           [81, 89),\n",
       "                           'RU',\n",
       "                           [Form('мемориал', Grams(NOUN,inan,masc,nomn,sing)),\n",
       "                            Form('мемориал',\n",
       "                                 Grams(NOUN,accs,inan,masc,sing))]),\n",
       "                Token('\"', [89, 90), 'PUNCT')],\n",
       "               [58, 90)),\n",
       "         Match([MorphToken('коммерческое',\n",
       "                           [92, 104),\n",
       "                           'RU',\n",
       "                           [Form('коммерческий', Grams(ADJF,neut,nomn,sing)),\n",
       "                            Form('коммерческий', Grams(ADJF,accs,neut,sing))]),\n",
       "                MorphToken('производственное',\n",
       "                           [105, 121),\n",
       "                           'RU',\n",
       "                           [Form('производственный',\n",
       "                                 Grams(ADJF,neut,nomn,sing)),\n",
       "                            Form('производственный',\n",
       "                                 Grams(ADJF,accs,neut,sing))]),\n",
       "                MorphToken('объединение',\n",
       "                           [122, 133),\n",
       "                           'RU',\n",
       "                           [Form('объединение',\n",
       "                                 Grams(NOUN,inan,neut,nomn,sing)),\n",
       "                            Form('объединение',\n",
       "                                 Grams(NOUN,accs,inan,neut,sing))]),\n",
       "                Token('\"', [134, 135), 'PUNCT'),\n",
       "                MorphToken('Вектор',\n",
       "                           [135, 141),\n",
       "                           'RU',\n",
       "                           [Form('вектор', Grams(NOUN,inan,masc,nomn,sing)),\n",
       "                            Form('вектор', Grams(NOUN,accs,inan,masc,sing))]),\n",
       "                Token('\"', [141, 142), 'PUNCT')],\n",
       "               [92, 142)),\n",
       "         Match([MorphToken('правозащитный',\n",
       "                           [144, 157),\n",
       "                           'RU',\n",
       "                           [Form('правозащитный', Grams(ADJF,masc,nomn,sing)),\n",
       "                            Form('правозащитный',\n",
       "                                 Grams(ADJF,accs,inan,masc,sing))]),\n",
       "                MorphToken('центр',\n",
       "                           [158, 163),\n",
       "                           'RU',\n",
       "                           [Form('центр', Grams(NOUN,inan,masc,nomn,sing)),\n",
       "                            Form('центр', Grams(NOUN,accs,inan,masc,sing))]),\n",
       "                Token('«', [164, 165), 'PUNCT'),\n",
       "                MorphToken('Мемориал',\n",
       "                           [165, 173),\n",
       "                           'RU',\n",
       "                           [Form('мемориал', Grams(NOUN,inan,masc,nomn,sing)),\n",
       "                            Form('мемориал',\n",
       "                                 Grams(NOUN,accs,inan,masc,sing))]),\n",
       "                Token('»', [173, 174), 'PUNCT')],\n",
       "               [144, 174)),\n",
       "         Match([MorphToken('МГУ',\n",
       "                           [189, 192),\n",
       "                           'RU',\n",
       "                           [Form('мгу',\n",
       "                                 Grams(Abbr,Fixd,NOUN,Orgn,Sgtm,gent,inan,masc,sing)),\n",
       "                            Form('мгу',\n",
       "                                 Grams(Abbr,Fixd,NOUN,Orgn,Sgtm,inan,masc,nomn,sing)),\n",
       "                            Form('мгу',\n",
       "                                 Grams(Abbr,Fixd,NOUN,Orgn,Sgtm,inan,loct,masc,sing)),\n",
       "                            Form('мгу',\n",
       "                                 Grams(Abbr,Fixd,NOUN,Orgn,Sgtm,datv,inan,masc,sing)),\n",
       "                            Form('мгу',\n",
       "                                 Grams(Abbr,Fixd,NOUN,Orgn,Sgtm,accs,inan,masc,sing)),\n",
       "                            Form('мгу',\n",
       "                                 Grams(Abbr,Fixd,NOUN,Orgn,Sgtm,ablt,inan,masc,sing))]),\n",
       "                MorphToken('имени',\n",
       "                           [193, 198),\n",
       "                           'RU',\n",
       "                           [Form('имя', Grams(NOUN,gent,inan,neut,sing))]),\n",
       "                MorphToken('М',\n",
       "                           [199, 200),\n",
       "                           'RU',\n",
       "                           [Form('метр',\n",
       "                                 Grams(Abbr,Fixd,NOUN,gent,inan,masc,sing)),\n",
       "                            Form('метр',\n",
       "                                 Grams(Abbr,Fixd,NOUN,gent,inan,masc,plur)),\n",
       "                            Form('москва',\n",
       "                                 Grams(Abbr,Fixd,Geox,NOUN,Sgtm,femn,gent,inan,sing)),\n",
       "                            Form('м',\n",
       "                                 Grams(Abbr,Fixd,Init,NOUN,Name,Sgtm,anim,gent,masc,sing)),\n",
       "                            Form('м',\n",
       "                                 Grams(Abbr,Fixd,Init,NOUN,Name,Sgtm,anim,femn,gent,sing)),\n",
       "                            Form('м',\n",
       "                                 Grams(Abbr,Fixd,Init,NOUN,Patr,Sgtm,anim,gent,masc,sing)),\n",
       "                            Form('м',\n",
       "                                 Grams(Abbr,Fixd,Init,NOUN,Patr,Sgtm,anim,femn,gent,sing))])],\n",
       "               [189, 200))])"
      ]
     },
     "execution_count": 19,
     "metadata": {},
     "output_type": "execute_result"
    }
   ],
   "source": [
    "extractor = ntsh.OrganisationExtractor()\n",
    "text = '''\n",
    "ПАО «Газпром»,\n",
    "публичное акционерное общество \"Газпром\",\n",
    "историческое общество \"Мемориал\",\n",
    "коммерческое производственное объединение \"Вектор\",\n",
    "правозащитный центр «Мемориал»\n",
    "факультет ВМК МГУ имени М.В. Ломоносова\n",
    "Интересное сообщество национальных партий Хиросимы\n",
    "'''\n",
    "matches = extractor(text)\n",
    "matches"
   ]
  },
  {
   "cell_type": "code",
   "execution_count": 20,
   "metadata": {
    "scrolled": false,
    "slideshow": {
     "slide_type": "subslide"
    }
   },
   "outputs": [
    {
     "name": "stdout",
     "output_type": "stream",
     "text": [
      "Organisation(name='ПАО «Газпром»')\n",
      "Organisation(name='публичное акционерное общество \"Газпром\"')\n",
      "Organisation(name='историческое общество \"Мемориал\"')\n",
      "Organisation(name='коммерческое производственное объединение \"Вектор\"')\n",
      "Organisation(name='правозащитный центр «Мемориал»')\n",
      "Organisation(name='МГУ имени М')\n"
     ]
    }
   ],
   "source": [
    "for index, match in enumerate(matches):\n",
    "    print(match.fact)"
   ]
  },
  {
   "cell_type": "markdown",
   "metadata": {
    "slideshow": {
     "slide_type": "slide"
    }
   },
   "source": [
    "### Деньги"
   ]
  },
  {
   "cell_type": "code",
   "execution_count": 21,
   "metadata": {
    "slideshow": {
     "slide_type": "-"
    }
   },
   "outputs": [
    {
     "data": {
      "text/html": [
       "<style>\n",
       "\n",
       ".markup {\n",
       "    white-space: pre-wrap;\n",
       "}\n",
       "\n",
       ".markup > mark {\n",
       "    padding: 0.15em;\n",
       "    border-radius: 0.25em;\n",
       "    border: 1px solid #fdf07c;\n",
       "    background: #ffffc2;\n",
       "}\n",
       "    </style><div class=\"markup tex2jax_ignore\">\n",
       "<mark>1 599 059, 38 Евро</mark>,\n",
       "<mark>2 134 472,44 рубля</mark>,\n",
       "<mark>20 млн долларов</mark>\n",
       "<mark>2,2 млн.руб.</mark>,\n",
       "<mark>20 тыс руб</mark>,\n",
       "<mark>124 451 рубль 50 копеек</mark>,\n",
       "<mark>881 913 \n",
       "(Восемьсот восемьдесят одна тысяча девятьсот тринадцать) руб. \n",
       "98 коп.</mark>,\n",
       "</div>"
      ],
      "text/plain": [
       "Matches('\\n1 599 059, 38 Евро,\\n2 134 472,44 рубля,\\n20 млн долларов\\n2,2 млн.руб.,\\n20 тыс руб,\\n124 451 рубль 50 копеек,\\n881 913 \\n(Восемьсот восемьдесят одна тысяча девятьсот тринадцать) руб. \\n98 коп.,\\n',\n",
       "        [Match([Token('1', [1, 2), 'INT'),\n",
       "                Token('599', [3, 6), 'INT'),\n",
       "                Token('059', [7, 10), 'INT'),\n",
       "                Token(',', [10, 11), 'PUNCT'),\n",
       "                Token('38', [12, 14), 'INT'),\n",
       "                MorphToken('Евро',\n",
       "                           [15, 19),\n",
       "                           'RU',\n",
       "                           [Form('евро', Grams(Fixd,NOUN,gent,inan,neut,plur)),\n",
       "                            Form('евро', Grams(Fixd,NOUN,accs,inan,neut,sing)),\n",
       "                            Form('евро', Grams(Fixd,NOUN,inan,neut,nomn,sing)),\n",
       "                            Form('евро', Grams(Fixd,NOUN,gent,inan,neut,sing)),\n",
       "                            Form('евро', Grams(Fixd,NOUN,datv,inan,neut,sing)),\n",
       "                            Form('евро', Grams(Fixd,NOUN,ablt,inan,neut,sing)),\n",
       "                            Form('евро', Grams(Fixd,NOUN,inan,loct,neut,sing)),\n",
       "                            Form('евро', Grams(Fixd,NOUN,inan,neut,nomn,plur)),\n",
       "                            Form('евро', Grams(Fixd,NOUN,datv,inan,neut,plur)),\n",
       "                            Form('евро', Grams(Fixd,NOUN,accs,inan,neut,plur)),\n",
       "                            Form('евро', Grams(Fixd,NOUN,ablt,inan,neut,plur)),\n",
       "                            Form('евро',\n",
       "                                 Grams(Fixd,NOUN,inan,loct,neut,plur))])],\n",
       "               [1, 19)),\n",
       "         Match([Token('2', [21, 22), 'INT'),\n",
       "                Token('134', [23, 26), 'INT'),\n",
       "                Token('472', [27, 30), 'INT'),\n",
       "                Token(',', [30, 31), 'PUNCT'),\n",
       "                Token('44', [31, 33), 'INT'),\n",
       "                MorphToken('рубля',\n",
       "                           [34, 39),\n",
       "                           'RU',\n",
       "                           [Form('рубль', Grams(NOUN,gent,inan,masc,sing))])],\n",
       "               [21, 39)),\n",
       "         Match([Token('20', [41, 43), 'INT'),\n",
       "                MorphToken('млн',\n",
       "                           [44, 47),\n",
       "                           'RU',\n",
       "                           [Form('миллион',\n",
       "                                 Grams(Abbr,Fixd,NOUN,inan,masc,nomn,sing)),\n",
       "                            Form('миллион',\n",
       "                                 Grams(Abbr,Fixd,NOUN,gent,inan,masc,sing)),\n",
       "                            Form('миллион',\n",
       "                                 Grams(Abbr,Fixd,NOUN,datv,inan,masc,sing)),\n",
       "                            Form('миллион',\n",
       "                                 Grams(Abbr,Fixd,NOUN,accs,inan,masc,sing)),\n",
       "                            Form('миллион',\n",
       "                                 Grams(Abbr,Fixd,NOUN,ablt,inan,masc,sing)),\n",
       "                            Form('миллион',\n",
       "                                 Grams(Abbr,Fixd,NOUN,inan,loct,masc,sing)),\n",
       "                            Form('миллион',\n",
       "                                 Grams(Abbr,Fixd,NOUN,inan,masc,nomn,plur)),\n",
       "                            Form('миллион',\n",
       "                                 Grams(Abbr,Fixd,NOUN,gent,inan,masc,plur)),\n",
       "                            Form('миллион',\n",
       "                                 Grams(Abbr,Fixd,NOUN,datv,inan,masc,plur)),\n",
       "                            Form('миллион',\n",
       "                                 Grams(Abbr,Fixd,NOUN,accs,inan,masc,plur)),\n",
       "                            Form('миллион',\n",
       "                                 Grams(Abbr,Fixd,NOUN,ablt,inan,masc,plur)),\n",
       "                            Form('миллион',\n",
       "                                 Grams(Abbr,Fixd,NOUN,inan,loct,masc,plur))]),\n",
       "                MorphToken('долларов',\n",
       "                           [48, 56),\n",
       "                           'RU',\n",
       "                           [Form('доллар', Grams(NOUN,gent,inan,masc,plur))])],\n",
       "               [41, 56)),\n",
       "         Match([Token('2', [57, 58), 'INT'),\n",
       "                Token(',', [58, 59), 'PUNCT'),\n",
       "                Token('2', [59, 60), 'INT'),\n",
       "                MorphToken('млн',\n",
       "                           [61, 64),\n",
       "                           'RU',\n",
       "                           [Form('миллион',\n",
       "                                 Grams(Abbr,Fixd,NOUN,inan,masc,nomn,sing)),\n",
       "                            Form('миллион',\n",
       "                                 Grams(Abbr,Fixd,NOUN,gent,inan,masc,sing)),\n",
       "                            Form('миллион',\n",
       "                                 Grams(Abbr,Fixd,NOUN,datv,inan,masc,sing)),\n",
       "                            Form('миллион',\n",
       "                                 Grams(Abbr,Fixd,NOUN,accs,inan,masc,sing)),\n",
       "                            Form('миллион',\n",
       "                                 Grams(Abbr,Fixd,NOUN,ablt,inan,masc,sing)),\n",
       "                            Form('миллион',\n",
       "                                 Grams(Abbr,Fixd,NOUN,inan,loct,masc,sing)),\n",
       "                            Form('миллион',\n",
       "                                 Grams(Abbr,Fixd,NOUN,inan,masc,nomn,plur)),\n",
       "                            Form('миллион',\n",
       "                                 Grams(Abbr,Fixd,NOUN,gent,inan,masc,plur)),\n",
       "                            Form('миллион',\n",
       "                                 Grams(Abbr,Fixd,NOUN,datv,inan,masc,plur)),\n",
       "                            Form('миллион',\n",
       "                                 Grams(Abbr,Fixd,NOUN,accs,inan,masc,plur)),\n",
       "                            Form('миллион',\n",
       "                                 Grams(Abbr,Fixd,NOUN,ablt,inan,masc,plur)),\n",
       "                            Form('миллион',\n",
       "                                 Grams(Abbr,Fixd,NOUN,inan,loct,masc,plur))]),\n",
       "                Token('.', [64, 65), 'PUNCT'),\n",
       "                MorphToken('руб',\n",
       "                           [65, 68),\n",
       "                           'RU',\n",
       "                           [Form('рубль',\n",
       "                                 Grams(Abbr,Fixd,NOUN,inan,masc,nomn,sing)),\n",
       "                            Form('рубль',\n",
       "                                 Grams(Abbr,Fixd,NOUN,gent,inan,masc,sing)),\n",
       "                            Form('рубль',\n",
       "                                 Grams(Abbr,Fixd,NOUN,datv,inan,masc,sing)),\n",
       "                            Form('рубль',\n",
       "                                 Grams(Abbr,Fixd,NOUN,accs,inan,masc,sing)),\n",
       "                            Form('рубль',\n",
       "                                 Grams(Abbr,Fixd,NOUN,ablt,inan,masc,sing)),\n",
       "                            Form('рубль',\n",
       "                                 Grams(Abbr,Fixd,NOUN,inan,loct,masc,sing)),\n",
       "                            Form('рубль',\n",
       "                                 Grams(Abbr,Fixd,NOUN,inan,masc,nomn,plur)),\n",
       "                            Form('рубль',\n",
       "                                 Grams(Abbr,Fixd,NOUN,gent,inan,masc,plur)),\n",
       "                            Form('рубль',\n",
       "                                 Grams(Abbr,Fixd,NOUN,datv,inan,masc,plur)),\n",
       "                            Form('рубль',\n",
       "                                 Grams(Abbr,Fixd,NOUN,accs,inan,masc,plur)),\n",
       "                            Form('рубль',\n",
       "                                 Grams(Abbr,Fixd,NOUN,ablt,inan,masc,plur)),\n",
       "                            Form('рубль',\n",
       "                                 Grams(Abbr,Fixd,NOUN,inan,loct,masc,plur))]),\n",
       "                Token('.', [68, 69), 'PUNCT')],\n",
       "               [57, 69)),\n",
       "         Match([Token('20', [71, 73), 'INT'),\n",
       "                MorphToken('тыс',\n",
       "                           [74, 77),\n",
       "                           'RU',\n",
       "                           [Form('тысяча',\n",
       "                                 Grams(Abbr,Fixd,NOUN,femn,inan,nomn,sing)),\n",
       "                            Form('тысяча',\n",
       "                                 Grams(Abbr,Fixd,NOUN,femn,gent,inan,sing)),\n",
       "                            Form('тысяча',\n",
       "                                 Grams(Abbr,Fixd,NOUN,datv,femn,inan,sing)),\n",
       "                            Form('тысяча',\n",
       "                                 Grams(Abbr,Fixd,NOUN,accs,femn,inan,sing)),\n",
       "                            Form('тысяча',\n",
       "                                 Grams(Abbr,Fixd,NOUN,ablt,femn,inan,sing)),\n",
       "                            Form('тысяча',\n",
       "                                 Grams(Abbr,Fixd,NOUN,femn,inan,loct,sing)),\n",
       "                            Form('тысяча',\n",
       "                                 Grams(Abbr,Fixd,NOUN,femn,inan,nomn,plur)),\n",
       "                            Form('тысяча',\n",
       "                                 Grams(Abbr,Fixd,NOUN,femn,gent,inan,plur)),\n",
       "                            Form('тысяча',\n",
       "                                 Grams(Abbr,Fixd,NOUN,datv,femn,inan,plur)),\n",
       "                            Form('тысяча',\n",
       "                                 Grams(Abbr,Fixd,NOUN,accs,femn,inan,plur)),\n",
       "                            Form('тысяча',\n",
       "                                 Grams(Abbr,Fixd,NOUN,ablt,femn,inan,plur)),\n",
       "                            Form('тысяча',\n",
       "                                 Grams(Abbr,Fixd,NOUN,femn,inan,loct,plur))]),\n",
       "                MorphToken('руб',\n",
       "                           [78, 81),\n",
       "                           'RU',\n",
       "                           [Form('рубль',\n",
       "                                 Grams(Abbr,Fixd,NOUN,inan,masc,nomn,sing)),\n",
       "                            Form('рубль',\n",
       "                                 Grams(Abbr,Fixd,NOUN,gent,inan,masc,sing)),\n",
       "                            Form('рубль',\n",
       "                                 Grams(Abbr,Fixd,NOUN,datv,inan,masc,sing)),\n",
       "                            Form('рубль',\n",
       "                                 Grams(Abbr,Fixd,NOUN,accs,inan,masc,sing)),\n",
       "                            Form('рубль',\n",
       "                                 Grams(Abbr,Fixd,NOUN,ablt,inan,masc,sing)),\n",
       "                            Form('рубль',\n",
       "                                 Grams(Abbr,Fixd,NOUN,inan,loct,masc,sing)),\n",
       "                            Form('рубль',\n",
       "                                 Grams(Abbr,Fixd,NOUN,inan,masc,nomn,plur)),\n",
       "                            Form('рубль',\n",
       "                                 Grams(Abbr,Fixd,NOUN,gent,inan,masc,plur)),\n",
       "                            Form('рубль',\n",
       "                                 Grams(Abbr,Fixd,NOUN,datv,inan,masc,plur)),\n",
       "                            Form('рубль',\n",
       "                                 Grams(Abbr,Fixd,NOUN,accs,inan,masc,plur)),\n",
       "                            Form('рубль',\n",
       "                                 Grams(Abbr,Fixd,NOUN,ablt,inan,masc,plur)),\n",
       "                            Form('рубль',\n",
       "                                 Grams(Abbr,Fixd,NOUN,inan,loct,masc,plur))])],\n",
       "               [71, 81)),\n",
       "         Match([Token('124', [83, 86), 'INT'),\n",
       "                Token('451', [87, 90), 'INT'),\n",
       "                MorphToken('рубль',\n",
       "                           [91, 96),\n",
       "                           'RU',\n",
       "                           [Form('рубль', Grams(NOUN,inan,masc,nomn,sing)),\n",
       "                            Form('рубль', Grams(NOUN,accs,inan,masc,sing))]),\n",
       "                Token('50', [97, 99), 'INT'),\n",
       "                MorphToken('копеек',\n",
       "                           [100, 106),\n",
       "                           'RU',\n",
       "                           [Form('копейка',\n",
       "                                 Grams(NOUN,femn,gent,inan,plur))])],\n",
       "               [83, 106)),\n",
       "         Match([Token('881', [108, 111), 'INT'),\n",
       "                Token('913', [112, 115), 'INT'),\n",
       "                Token('(', [117, 118), 'PUNCT'),\n",
       "                MorphToken('Восемьсот',\n",
       "                           [118, 127),\n",
       "                           'RU',\n",
       "                           [Form('восемьсот', Grams(NUMR,nomn)),\n",
       "                            Form('восемьсот', Grams(NUMR,accs))]),\n",
       "                MorphToken('восемьдесят',\n",
       "                           [128, 139),\n",
       "                           'RU',\n",
       "                           [Form('восемьдесят', Grams(NUMR,nomn)),\n",
       "                            Form('восемьдесят', Grams(NUMR,accs))]),\n",
       "                MorphToken('одна',\n",
       "                           [140, 144),\n",
       "                           'RU',\n",
       "                           [Form('один', Grams(ADJF,Apro,femn,nomn,sing))]),\n",
       "                MorphToken('тысяча',\n",
       "                           [145, 151),\n",
       "                           'RU',\n",
       "                           [Form('тысяча', Grams(NOUN,femn,inan,nomn,sing))]),\n",
       "                MorphToken('девятьсот',\n",
       "                           [152, 161),\n",
       "                           'RU',\n",
       "                           [Form('девятьсот', Grams(NUMR,nomn)),\n",
       "                            Form('девятьсот', Grams(NUMR,accs))]),\n",
       "                MorphToken('тринадцать',\n",
       "                           [162, 172),\n",
       "                           'RU',\n",
       "                           [Form('тринадцать', Grams(NUMR,nomn)),\n",
       "                            Form('тринадцать', Grams(NUMR,accs))]),\n",
       "                Token(')', [172, 173), 'PUNCT'),\n",
       "                MorphToken('руб',\n",
       "                           [174, 177),\n",
       "                           'RU',\n",
       "                           [Form('рубль',\n",
       "                                 Grams(Abbr,Fixd,NOUN,inan,masc,nomn,sing)),\n",
       "                            Form('рубль',\n",
       "                                 Grams(Abbr,Fixd,NOUN,gent,inan,masc,sing)),\n",
       "                            Form('рубль',\n",
       "                                 Grams(Abbr,Fixd,NOUN,datv,inan,masc,sing)),\n",
       "                            Form('рубль',\n",
       "                                 Grams(Abbr,Fixd,NOUN,accs,inan,masc,sing)),\n",
       "                            Form('рубль',\n",
       "                                 Grams(Abbr,Fixd,NOUN,ablt,inan,masc,sing)),\n",
       "                            Form('рубль',\n",
       "                                 Grams(Abbr,Fixd,NOUN,inan,loct,masc,sing)),\n",
       "                            Form('рубль',\n",
       "                                 Grams(Abbr,Fixd,NOUN,inan,masc,nomn,plur)),\n",
       "                            Form('рубль',\n",
       "                                 Grams(Abbr,Fixd,NOUN,gent,inan,masc,plur)),\n",
       "                            Form('рубль',\n",
       "                                 Grams(Abbr,Fixd,NOUN,datv,inan,masc,plur)),\n",
       "                            Form('рубль',\n",
       "                                 Grams(Abbr,Fixd,NOUN,accs,inan,masc,plur)),\n",
       "                            Form('рубль',\n",
       "                                 Grams(Abbr,Fixd,NOUN,ablt,inan,masc,plur)),\n",
       "                            Form('рубль',\n",
       "                                 Grams(Abbr,Fixd,NOUN,inan,loct,masc,plur))]),\n",
       "                Token('.', [177, 178), 'PUNCT'),\n",
       "                Token('98', [180, 182), 'INT'),\n",
       "                MorphToken('коп',\n",
       "                           [183, 186),\n",
       "                           'RU',\n",
       "                           [Form('копа', Grams(NOUN,femn,gent,inan,plur))]),\n",
       "                Token('.', [186, 187), 'PUNCT')],\n",
       "               [108, 187))])"
      ]
     },
     "execution_count": 21,
     "metadata": {},
     "output_type": "execute_result"
    }
   ],
   "source": [
    "extractor = ntsh.MoneyExtractor()\n",
    "text = '''\n",
    "1 599 059, 38 Евро,\n",
    "2 134 472,44 рубля,\n",
    "20 млн долларов\n",
    "2,2 млн.руб.,\n",
    "20 тыс руб,\n",
    "124 451 рубль 50 копеек,\n",
    "881 913 \n",
    "(Восемьсот восемьдесят одна тысяча девятьсот тринадцать) руб. \n",
    "98 коп.,\n",
    "'''\n",
    "matches = extractor(text)\n",
    "matches"
   ]
  },
  {
   "cell_type": "code",
   "execution_count": 22,
   "metadata": {
    "scrolled": false,
    "slideshow": {
     "slide_type": "subslide"
    }
   },
   "outputs": [
    {
     "name": "stdout",
     "output_type": "stream",
     "text": [
      "Money(integer=1599059, fraction=38, multiplier=None, currency='EUR', coins=None)\n",
      "Money(integer=2134472, fraction=44, multiplier=None, currency='RUB', coins=None)\n",
      "Money(integer=20, fraction=None, multiplier=1000000, currency='USD', coins=None)\n",
      "Money(integer=2, fraction=20, multiplier=1000000, currency='RUB', coins=None)\n",
      "Money(integer=20, fraction=None, multiplier=1000, currency='RUB', coins=None)\n",
      "Money(integer=124451, fraction=None, multiplier=None, currency='RUB', coins=50)\n",
      "Money(integer=881913, fraction=None, multiplier=None, currency='RUB', coins=98)\n"
     ]
    }
   ],
   "source": [
    "for index, match in enumerate(matches):\n",
    "    print(match.fact)"
   ]
  },
  {
   "cell_type": "markdown",
   "metadata": {
    "slideshow": {
     "slide_type": "slide"
    }
   },
   "source": [
    "### Деньги/Время"
   ]
  },
  {
   "cell_type": "code",
   "execution_count": 23,
   "metadata": {
    "slideshow": {
     "slide_type": "-"
    }
   },
   "outputs": [
    {
     "data": {
      "text/html": [
       "<style>\n",
       "\n",
       ".markup {\n",
       "    white-space: pre-wrap;\n",
       "}\n",
       "\n",
       ".markup > mark {\n",
       "    padding: 0.15em;\n",
       "    border-radius: 0.25em;\n",
       "    border: 1px solid #fdf07c;\n",
       "    background: #ffffc2;\n",
       "}\n",
       "    </style><div class=\"markup tex2jax_ignore\">\n",
       "<mark>1 599 059, 38 Евро / сутки</mark>,\n",
       "<mark>2 134 472,44 рубля за смену</mark>,\n",
       "<mark>420 долларов в час</mark>\n",
       "</div>"
      ],
      "text/plain": [
       "Matches('\\n1 599 059, 38 Евро / сутки,\\n2 134 472,44 рубля за смену,\\n420 долларов в час\\n',\n",
       "        [Match([Token('1', [1, 2), 'INT'),\n",
       "                Token('599', [3, 6), 'INT'),\n",
       "                Token('059', [7, 10), 'INT'),\n",
       "                Token(',', [10, 11), 'PUNCT'),\n",
       "                Token('38', [12, 14), 'INT'),\n",
       "                MorphToken('Евро',\n",
       "                           [15, 19),\n",
       "                           'RU',\n",
       "                           [Form('евро', Grams(Fixd,NOUN,gent,inan,neut,plur)),\n",
       "                            Form('евро', Grams(Fixd,NOUN,accs,inan,neut,sing)),\n",
       "                            Form('евро', Grams(Fixd,NOUN,inan,neut,nomn,sing)),\n",
       "                            Form('евро', Grams(Fixd,NOUN,gent,inan,neut,sing)),\n",
       "                            Form('евро', Grams(Fixd,NOUN,datv,inan,neut,sing)),\n",
       "                            Form('евро', Grams(Fixd,NOUN,ablt,inan,neut,sing)),\n",
       "                            Form('евро', Grams(Fixd,NOUN,inan,loct,neut,sing)),\n",
       "                            Form('евро', Grams(Fixd,NOUN,inan,neut,nomn,plur)),\n",
       "                            Form('евро', Grams(Fixd,NOUN,datv,inan,neut,plur)),\n",
       "                            Form('евро', Grams(Fixd,NOUN,accs,inan,neut,plur)),\n",
       "                            Form('евро', Grams(Fixd,NOUN,ablt,inan,neut,plur)),\n",
       "                            Form('евро',\n",
       "                                 Grams(Fixd,NOUN,inan,loct,neut,plur))]),\n",
       "                Token('/', [20, 21), 'PUNCT'),\n",
       "                MorphToken('сутки',\n",
       "                           [22, 27),\n",
       "                           'RU',\n",
       "                           [Form('сутки',\n",
       "                                 Grams(GNdr,NOUN,Pltm,accs,inan,plur)),\n",
       "                            Form('сутки',\n",
       "                                 Grams(GNdr,NOUN,Pltm,inan,nomn,plur))])],\n",
       "               [1, 27)),\n",
       "         Match([Token('2', [29, 30), 'INT'),\n",
       "                Token('134', [31, 34), 'INT'),\n",
       "                Token('472', [35, 38), 'INT'),\n",
       "                Token(',', [38, 39), 'PUNCT'),\n",
       "                Token('44', [39, 41), 'INT'),\n",
       "                MorphToken('рубля',\n",
       "                           [42, 47),\n",
       "                           'RU',\n",
       "                           [Form('рубль', Grams(NOUN,gent,inan,masc,sing))]),\n",
       "                MorphToken('за', [48, 50), 'RU', [Form('за', Grams(PREP))]),\n",
       "                MorphToken('смену',\n",
       "                           [51, 56),\n",
       "                           'RU',\n",
       "                           [Form('смена', Grams(NOUN,accs,femn,inan,sing))])],\n",
       "               [29, 56)),\n",
       "         Match([Token('420', [58, 61), 'INT'),\n",
       "                MorphToken('долларов',\n",
       "                           [62, 70),\n",
       "                           'RU',\n",
       "                           [Form('доллар', Grams(NOUN,gent,inan,masc,plur))]),\n",
       "                MorphToken('в',\n",
       "                           [71, 72),\n",
       "                           'RU',\n",
       "                           [Form('в', Grams(PREP)),\n",
       "                            Form('век',\n",
       "                                 Grams(Abbr,Fixd,NOUN,inan,masc,nomn,sing)),\n",
       "                            Form('век',\n",
       "                                 Grams(Abbr,Fixd,NOUN,gent,inan,masc,sing)),\n",
       "                            Form('век',\n",
       "                                 Grams(Abbr,Fixd,NOUN,datv,inan,masc,sing)),\n",
       "                            Form('век',\n",
       "                                 Grams(Abbr,Fixd,NOUN,accs,inan,masc,sing)),\n",
       "                            Form('век',\n",
       "                                 Grams(Abbr,Fixd,NOUN,ablt,inan,masc,sing)),\n",
       "                            Form('век',\n",
       "                                 Grams(Abbr,Fixd,NOUN,inan,loct,masc,sing)),\n",
       "                            Form('век',\n",
       "                                 Grams(Abbr,Fixd,NOUN,inan,masc,nomn,plur)),\n",
       "                            Form('век',\n",
       "                                 Grams(Abbr,Fixd,NOUN,gent,inan,masc,plur)),\n",
       "                            Form('век',\n",
       "                                 Grams(Abbr,Fixd,NOUN,datv,inan,masc,plur)),\n",
       "                            Form('век',\n",
       "                                 Grams(Abbr,Fixd,NOUN,accs,inan,masc,plur)),\n",
       "                            Form('век',\n",
       "                                 Grams(Abbr,Fixd,NOUN,ablt,inan,masc,plur)),\n",
       "                            Form('век',\n",
       "                                 Grams(Abbr,Fixd,NOUN,inan,loct,masc,plur))]),\n",
       "                MorphToken('час',\n",
       "                           [73, 76),\n",
       "                           'RU',\n",
       "                           [Form('час', Grams(NOUN,accs,inan,masc,sing)),\n",
       "                            Form('час', Grams(NOUN,inan,masc,nomn,sing))])],\n",
       "               [58, 76))])"
      ]
     },
     "execution_count": 23,
     "metadata": {},
     "output_type": "execute_result"
    }
   ],
   "source": [
    "extractor = ntsh.MoneyRateExtractor()\n",
    "text = '''\n",
    "1 599 059, 38 Евро / сутки,\n",
    "2 134 472,44 рубля за смену,\n",
    "420 долларов в час\n",
    "'''\n",
    "\n",
    "matches = extractor(text)\n",
    "matches"
   ]
  },
  {
   "cell_type": "code",
   "execution_count": 24,
   "metadata": {
    "scrolled": false,
    "slideshow": {
     "slide_type": "subslide"
    }
   },
   "outputs": [
    {
     "name": "stdout",
     "output_type": "stream",
     "text": [
      "Rate(money=Money(integer=1599059, fraction=38, multiplier=None, currency='EUR', coins=None), period='DAY')\n",
      "Rate(money=Money(integer=2134472, fraction=44, multiplier=None, currency='RUB', coins=None), period='SHIFT')\n",
      "Rate(money=Money(integer=420, fraction=None, multiplier=None, currency='USD', coins=None), period='HOUR')\n"
     ]
    }
   ],
   "source": [
    "for index, match in enumerate(matches):\n",
    "    print(match.fact)"
   ]
  },
  {
   "cell_type": "markdown",
   "metadata": {
    "slideshow": {
     "slide_type": "slide"
    }
   },
   "source": [
    "### Денежный диапазон"
   ]
  },
  {
   "cell_type": "code",
   "execution_count": 12,
   "metadata": {
    "slideshow": {
     "slide_type": "-"
    }
   },
   "outputs": [
    {
     "data": {
      "text/html": [
       "<style>\n",
       "\n",
       ".markup {\n",
       "    white-space: pre-wrap;\n",
       "}\n",
       "\n",
       ".markup > mark {\n",
       "    padding: 0.15em;\n",
       "    border-radius: 0.25em;\n",
       "    border: 1px solid #fdf07c;\n",
       "    background: #ffffc2;\n",
       "}\n",
       "    </style><div class=\"markup tex2jax_ignore\">\n",
       "<mark>1 599 059, 38 - 1600 Евро</mark>,\n",
       "<mark>от 0,5 до 2 134 472,44 рублей</mark>\n",
       "</div>"
      ],
      "text/plain": [
       "Matches('\\n1 599 059, 38 - 1600 Евро,\\nот 0,5 до 2 134 472,44 рублей\\n',\n",
       "        [Match([Token('1', [1, 2), 'INT'),\n",
       "                Token('599', [3, 6), 'INT'),\n",
       "                Token('059', [7, 10), 'INT'),\n",
       "                Token(',', [10, 11), 'PUNCT'),\n",
       "                Token('38', [12, 14), 'INT'),\n",
       "                Token('-', [15, 16), 'PUNCT'),\n",
       "                Token('1600', [17, 21), 'INT'),\n",
       "                MorphToken('Евро',\n",
       "                           [22, 26),\n",
       "                           'RU',\n",
       "                           [Form('евро', Grams(Fixd,NOUN,gent,inan,neut,plur)),\n",
       "                            Form('евро', Grams(Fixd,NOUN,accs,inan,neut,sing)),\n",
       "                            Form('евро', Grams(Fixd,NOUN,inan,neut,nomn,sing)),\n",
       "                            Form('евро', Grams(Fixd,NOUN,gent,inan,neut,sing)),\n",
       "                            Form('евро', Grams(Fixd,NOUN,datv,inan,neut,sing)),\n",
       "                            Form('евро', Grams(Fixd,NOUN,ablt,inan,neut,sing)),\n",
       "                            Form('евро', Grams(Fixd,NOUN,inan,loct,neut,sing)),\n",
       "                            Form('евро', Grams(Fixd,NOUN,inan,neut,nomn,plur)),\n",
       "                            Form('евро', Grams(Fixd,NOUN,datv,inan,neut,plur)),\n",
       "                            Form('евро', Grams(Fixd,NOUN,accs,inan,neut,plur)),\n",
       "                            Form('евро', Grams(Fixd,NOUN,ablt,inan,neut,plur)),\n",
       "                            Form('евро',\n",
       "                                 Grams(Fixd,NOUN,inan,loct,neut,plur))])],\n",
       "               [1, 26)),\n",
       "         Match([MorphToken('от', [28, 30), 'RU', [Form('от', Grams(PREP))]),\n",
       "                Token('0', [31, 32), 'INT'),\n",
       "                Token(',', [32, 33), 'PUNCT'),\n",
       "                Token('5', [33, 34), 'INT'),\n",
       "                MorphToken('до', [35, 37), 'RU', [Form('до', Grams(PREP))]),\n",
       "                Token('2', [38, 39), 'INT'),\n",
       "                Token('134', [40, 43), 'INT'),\n",
       "                Token('472', [44, 47), 'INT'),\n",
       "                Token(',', [47, 48), 'PUNCT'),\n",
       "                Token('44', [48, 50), 'INT'),\n",
       "                MorphToken('рублей',\n",
       "                           [51, 57),\n",
       "                           'RU',\n",
       "                           [Form('рубль', Grams(NOUN,gent,inan,masc,plur))])],\n",
       "               [28, 57))])"
      ]
     },
     "execution_count": 12,
     "metadata": {},
     "output_type": "execute_result"
    }
   ],
   "source": [
    "extractor = ntsh.MoneyRangeExtractor()\n",
    "text = '''\n",
    "1 599 059, 38 - 1600 Евро,\n",
    "от 0,5 до 2 134 472,44 рублей\n",
    "'''\n",
    "matches = extractor(text)\n",
    "matches"
   ]
  },
  {
   "cell_type": "code",
   "execution_count": 13,
   "metadata": {
    "scrolled": false,
    "slideshow": {
     "slide_type": "subslide"
    }
   },
   "outputs": [
    {
     "name": "stdout",
     "output_type": "stream",
     "text": [
      "Range(min=Money(integer=1599059, fraction=38, multiplier=None, currency=None, coins=None), max=Money(integer=1600, fraction=None, multiplier=None, currency='EUR', coins=None))\n",
      "Range(min=Money(integer=0, fraction=50, multiplier=None, currency=None, coins=None), max=Money(integer=2134472, fraction=44, multiplier=None, currency='RUB', coins=None))\n"
     ]
    }
   ],
   "source": [
    "for index, match in enumerate(matches):\n",
    "    print(match.fact)"
   ]
  },
  {
   "cell_type": "markdown",
   "metadata": {
    "slideshow": {
     "slide_type": "slide"
    }
   },
   "source": [
    "https://github.com/natasha"
   ]
  },
  {
   "cell_type": "markdown",
   "metadata": {},
   "source": [
    "http://openie.allenai.org"
   ]
  },
  {
   "cell_type": "markdown",
   "metadata": {},
   "source": [
    "https://nlpub.ru/"
   ]
  }
 ],
 "metadata": {
  "celltoolbar": "Slideshow",
  "kernelspec": {
   "display_name": "Python 3",
   "language": "python",
   "name": "python3"
  },
  "language_info": {
   "codemirror_mode": {
    "name": "ipython",
    "version": 3
   },
   "file_extension": ".py",
   "mimetype": "text/x-python",
   "name": "python",
   "nbconvert_exporter": "python",
   "pygments_lexer": "ipython3",
   "version": "3.7.0"
  }
 },
 "nbformat": 4,
 "nbformat_minor": 2
}
